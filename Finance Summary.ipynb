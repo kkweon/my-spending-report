{
 "cells": [
  {
   "cell_type": "markdown",
   "metadata": {},
   "source": [
    "# Financial Summary\n",
    "\n",
    "## Purpose of this notebook\n",
    "- to find how much expenditure I spent each month\n",
    "- to see what category of expenditure I spent each month"
   ]
  },
  {
   "cell_type": "markdown",
   "metadata": {},
   "source": [
    "# 1. Load library\n",
    "\n",
    "- pandas for dataframe\n",
    "- matplotlib for plot\n",
    "- seaborn for analysis plot \n",
    "- datetime for reading datetime index in dataframe"
   ]
  },
  {
   "cell_type": "code",
   "execution_count": 1,
   "metadata": {
    "collapsed": false,
    "deletable": true,
    "editable": true
   },
   "outputs": [],
   "source": [
    "import pandas as pd\n",
    "import matplotlib\n",
    "import matplotlib.pyplot as plt\n",
    "import seaborn as sns\n",
    "import datetime\n",
    "%matplotlib inline\n",
    "sns.set_context(\"notebook\", font_scale=1.5)"
   ]
  },
  {
   "cell_type": "markdown",
   "metadata": {
    "deletable": true,
    "editable": true
   },
   "source": [
    "# 2. Load data\n",
    "\n",
    "- data file was processed in `train.ipynb`"
   ]
  },
  {
   "cell_type": "code",
   "execution_count": 2,
   "metadata": {
    "collapsed": true,
    "deletable": true,
    "editable": true
   },
   "outputs": [],
   "source": [
    "data_file = \"data/final/merged_feb_2016.csv\""
   ]
  },
  {
   "cell_type": "code",
   "execution_count": 3,
   "metadata": {
    "collapsed": false,
    "deletable": true,
    "editable": true
   },
   "outputs": [
    {
     "data": {
      "text/html": [
       "<div>\n",
       "<table border=\"1\" class=\"dataframe\">\n",
       "  <thead>\n",
       "    <tr style=\"text-align: right;\">\n",
       "      <th></th>\n",
       "      <th>Type</th>\n",
       "      <th>Trans Date</th>\n",
       "      <th>Post Date</th>\n",
       "      <th>Description</th>\n",
       "      <th>Amount</th>\n",
       "      <th>Kind</th>\n",
       "    </tr>\n",
       "  </thead>\n",
       "  <tbody>\n",
       "    <tr>\n",
       "      <th>0</th>\n",
       "      <td>Sale</td>\n",
       "      <td>2016-12-31</td>\n",
       "      <td>2017-01-01</td>\n",
       "      <td>PAYPAL *DIGIZONE</td>\n",
       "      <td>-2.17</td>\n",
       "      <td>Goods</td>\n",
       "    </tr>\n",
       "    <tr>\n",
       "      <th>1</th>\n",
       "      <td>Sale</td>\n",
       "      <td>2016-12-31</td>\n",
       "      <td>2017-01-01</td>\n",
       "      <td>SQ *COOL TEA BAR  WAVERLY</td>\n",
       "      <td>-8.72</td>\n",
       "      <td>Foods</td>\n",
       "    </tr>\n",
       "    <tr>\n",
       "      <th>2</th>\n",
       "      <td>Sale</td>\n",
       "      <td>2016-12-30</td>\n",
       "      <td>2017-01-01</td>\n",
       "      <td>TARGET        00003202</td>\n",
       "      <td>-29.61</td>\n",
       "      <td>Goods</td>\n",
       "    </tr>\n",
       "    <tr>\n",
       "      <th>3</th>\n",
       "      <td>Sale</td>\n",
       "      <td>2016-12-30</td>\n",
       "      <td>2017-01-01</td>\n",
       "      <td>99 RANCH #1769</td>\n",
       "      <td>-47.59</td>\n",
       "      <td>Groceries</td>\n",
       "    </tr>\n",
       "    <tr>\n",
       "      <th>4</th>\n",
       "      <td>Sale</td>\n",
       "      <td>2016-12-30</td>\n",
       "      <td>2017-01-01</td>\n",
       "      <td>A&amp;amp;A GAS</td>\n",
       "      <td>-23.62</td>\n",
       "      <td>Auto</td>\n",
       "    </tr>\n",
       "  </tbody>\n",
       "</table>\n",
       "</div>"
      ],
      "text/plain": [
       "   Type Trans Date  Post Date                Description  Amount       Kind\n",
       "0  Sale 2016-12-31 2017-01-01           PAYPAL *DIGIZONE   -2.17      Goods\n",
       "1  Sale 2016-12-31 2017-01-01  SQ *COOL TEA BAR  WAVERLY   -8.72      Foods\n",
       "2  Sale 2016-12-30 2017-01-01     TARGET        00003202  -29.61      Goods\n",
       "3  Sale 2016-12-30 2017-01-01             99 RANCH #1769  -47.59  Groceries\n",
       "4  Sale 2016-12-30 2017-01-01                A&amp;A GAS  -23.62       Auto"
      ]
     },
     "execution_count": 3,
     "metadata": {},
     "output_type": "execute_result"
    }
   ],
   "source": [
    "dateparse = lambda x: pd.datetime.strptime(x, '%Y-%m-%d')\n",
    "df = pd.read_csv(data_file, parse_dates=['Trans Date', 'Post Date'], date_parser=dateparse)\n",
    "df.head(5)"
   ]
  },
  {
   "cell_type": "markdown",
   "metadata": {
    "deletable": true,
    "editable": true
   },
   "source": [
    "# 3. Get year-month\n",
    "\n",
    "- I want to see my cumulative expenditures in a monthly basis"
   ]
  },
  {
   "cell_type": "code",
   "execution_count": 4,
   "metadata": {
    "collapsed": true,
    "deletable": true,
    "editable": true
   },
   "outputs": [],
   "source": [
    "def get_year_month(date):\n",
    "    if date.month > 9:\n",
    "        return f\"{date.year}-{date.month}\"\n",
    "    else:\n",
    "        return f\"{date.year}-0{date.month}\""
   ]
  },
  {
   "cell_type": "code",
   "execution_count": null,
   "metadata": {
    "collapsed": false,
    "deletable": true,
    "editable": true
   },
   "outputs": [],
   "source": [
    "df['YearMonth'] = df['Trans Date'].map(get_year_month)\n",
    "year_month_order = df.groupby('YearMonth').count().index.sort_values().tolist()"
   ]
  },
  {
   "cell_type": "markdown",
   "metadata": {},
   "source": [
    "# 4. Report begins here"
   ]
  },
  {
   "cell_type": "markdown",
   "metadata": {},
   "source": [
    "## Q: How many expenditure I spent each month"
   ]
  },
  {
   "cell_type": "code",
   "execution_count": null,
   "metadata": {
    "collapsed": false
   },
   "outputs": [],
   "source": [
    "sns.countplot(df.YearMonth, order=year_month_order)\n",
    "plt.xlabel(\"\")\n",
    "plt.ylabel(\"# of expenditures\")\n",
    "plt.title(\"Number of Expenditure per Month\")\n",
    "plt.show()"
   ]
  },
  {
   "cell_type": "markdown",
   "metadata": {
    "deletable": true,
    "editable": true
   },
   "source": [
    "## Q: How much did I spend each month?"
   ]
  },
  {
   "cell_type": "code",
   "execution_count": null,
   "metadata": {
    "collapsed": false,
    "deletable": true,
    "editable": true
   },
   "outputs": [],
   "source": [
    "monthly_expense = abs(df[df.Amount < 0.0].groupby(\"YearMonth\").sum()[['Amount']])\n",
    "monthly_expense"
   ]
  },
  {
   "cell_type": "code",
   "execution_count": null,
   "metadata": {
    "collapsed": false,
    "deletable": true,
    "editable": true
   },
   "outputs": [],
   "source": [
    "ax = sns.barplot(x='YearMonth', y='Amount', ci=None, data=df[df.Amount < 0], color=\"salmon\", estimator=sum, order=year_month_order)\n",
    "ax.get_yaxis().set_major_formatter( matplotlib.ticker.FuncFormatter(lambda x, p: format(int(x), ',')))\n",
    "plt.title(\"Monthly Expense\")\n",
    "plt.xlabel(\"\")\n",
    "plt.ylabel(\"Expense\")\n",
    "plt.show()"
   ]
  },
  {
   "cell_type": "markdown",
   "metadata": {
    "deletable": true,
    "editable": true
   },
   "source": [
    "# Compare to the previous month (category)"
   ]
  },
  {
   "cell_type": "code",
   "execution_count": null,
   "metadata": {
    "collapsed": false,
    "deletable": true,
    "editable": true
   },
   "outputs": [],
   "source": [
    "last_month = monthly_expense.index[-1]\n",
    "month_before_last_month = monthly_expense.index[-2]"
   ]
  },
  {
   "cell_type": "code",
   "execution_count": null,
   "metadata": {
    "collapsed": false,
    "deletable": true,
    "editable": true
   },
   "outputs": [],
   "source": [
    "compare_df = df[(df.YearMonth == last_month) | (df.YearMonth == month_before_last_month)]"
   ]
  },
  {
   "cell_type": "code",
   "execution_count": null,
   "metadata": {
    "collapsed": false,
    "deletable": true,
    "editable": true
   },
   "outputs": [],
   "source": [
    "compare_df.groupby([\"Kind\", \"YearMonth\"]).sum()[['Amount']]"
   ]
  },
  {
   "cell_type": "markdown",
   "metadata": {},
   "source": [
    "## Q: which category did I spend most compared to last month?"
   ]
  },
  {
   "cell_type": "code",
   "execution_count": null,
   "metadata": {
    "collapsed": false,
    "deletable": true,
    "editable": true
   },
   "outputs": [],
   "source": [
    "plt.figure(figsize=(15, 10))\n",
    "ax = sns.barplot(x='Kind', y='Amount', hue='YearMonth', estimator=sum, hue_order=year_month_order[-2:], data=compare_df[compare_df.Kind != 'Payment'], ci=None)\n",
    "ax.get_yaxis().set_major_formatter( matplotlib.ticker.FuncFormatter(lambda x, p: format(int(x), ',')))\n",
    "plt.grid('on')\n",
    "plt.title(\"Expenditure per categories\")\n",
    "plt.xlabel(\"Categories\")\n",
    "plt.xlabel(\"\")\n",
    "plt.ylabel(\"Sum of Expenditure\")\n",
    "plt.show()"
   ]
  }
 ],
 "metadata": {
  "kernelspec": {
   "display_name": "Python 3",
   "language": "python",
   "name": "python3"
  },
  "language_info": {
   "codemirror_mode": {
    "name": "ipython",
    "version": 3
   },
   "file_extension": ".py",
   "mimetype": "text/x-python",
   "name": "python",
   "nbconvert_exporter": "python",
   "pygments_lexer": "ipython3",
   "version": "3.6.0"
  }
 },
 "nbformat": 4,
 "nbformat_minor": 2
}
