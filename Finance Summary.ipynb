{
 "cells": [
  {
   "cell_type": "markdown",
   "metadata": {
    "deletable": true,
    "editable": true
   },
   "source": [
    "# Financial Summary\n",
    "\n",
    "## Purpose of this notebook\n",
    "- to find how much expenditure I spent each month\n",
    "- to see what category of expenditure I spent each month"
   ]
  },
  {
   "cell_type": "markdown",
   "metadata": {
    "deletable": true,
    "editable": true
   },
   "source": [
    "# 1. Load library\n",
    "\n",
    "- pandas for dataframe\n",
    "- matplotlib for plot\n",
    "- seaborn for analysis plot \n",
    "- datetime for reading datetime index in dataframe"
   ]
  },
  {
   "cell_type": "code",
   "execution_count": 1,
   "metadata": {
    "collapsed": false,
    "deletable": true,
    "editable": true
   },
   "outputs": [],
   "source": [
    "import pandas as pd\n",
    "import matplotlib\n",
    "import matplotlib.pyplot as plt\n",
    "import seaborn as sns\n",
    "import datetime\n",
    "%matplotlib inline\n",
    "sns.set_context(\"notebook\", font_scale=1.5)"
   ]
  },
  {
   "cell_type": "markdown",
   "metadata": {
    "deletable": true,
    "editable": true
   },
   "source": [
    "# 2. Load data\n",
    "\n",
    "- data file was processed in `train.ipynb`"
   ]
  },
  {
   "cell_type": "code",
   "execution_count": 2,
   "metadata": {
    "collapsed": true,
    "deletable": true,
    "editable": true
   },
   "outputs": [],
   "source": [
    "data_file = \"data/final/merged_feb_2016.csv\""
   ]
  },
  {
   "cell_type": "code",
   "execution_count": 3,
   "metadata": {
    "collapsed": false,
    "deletable": true,
    "editable": true
   },
   "outputs": [
    {
     "data": {
      "text/html": [
       "<div>\n",
       "<table border=\"1\" class=\"dataframe\">\n",
       "  <thead>\n",
       "    <tr style=\"text-align: right;\">\n",
       "      <th></th>\n",
       "      <th>Type</th>\n",
       "      <th>Trans Date</th>\n",
       "      <th>Post Date</th>\n",
       "      <th>Description</th>\n",
       "      <th>Amount</th>\n",
       "      <th>Kind</th>\n",
       "    </tr>\n",
       "  </thead>\n",
       "  <tbody>\n",
       "    <tr>\n",
       "      <th>0</th>\n",
       "      <td>Sale</td>\n",
       "      <td>2016-12-31</td>\n",
       "      <td>2017-01-01</td>\n",
       "      <td>PAYPAL *DIGIZONE</td>\n",
       "      <td>-2.17</td>\n",
       "      <td>Goods</td>\n",
       "    </tr>\n",
       "    <tr>\n",
       "      <th>1</th>\n",
       "      <td>Sale</td>\n",
       "      <td>2016-12-31</td>\n",
       "      <td>2017-01-01</td>\n",
       "      <td>SQ *COOL TEA BAR  WAVERLY</td>\n",
       "      <td>-8.72</td>\n",
       "      <td>Foods</td>\n",
       "    </tr>\n",
       "    <tr>\n",
       "      <th>2</th>\n",
       "      <td>Sale</td>\n",
       "      <td>2016-12-30</td>\n",
       "      <td>2017-01-01</td>\n",
       "      <td>TARGET        00003202</td>\n",
       "      <td>-29.61</td>\n",
       "      <td>Goods</td>\n",
       "    </tr>\n",
       "    <tr>\n",
       "      <th>3</th>\n",
       "      <td>Sale</td>\n",
       "      <td>2016-12-30</td>\n",
       "      <td>2017-01-01</td>\n",
       "      <td>99 RANCH #1769</td>\n",
       "      <td>-47.59</td>\n",
       "      <td>Groceries</td>\n",
       "    </tr>\n",
       "    <tr>\n",
       "      <th>4</th>\n",
       "      <td>Sale</td>\n",
       "      <td>2016-12-30</td>\n",
       "      <td>2017-01-01</td>\n",
       "      <td>A&amp;amp;A GAS</td>\n",
       "      <td>-23.62</td>\n",
       "      <td>Auto</td>\n",
       "    </tr>\n",
       "  </tbody>\n",
       "</table>\n",
       "</div>"
      ],
      "text/plain": [
       "   Type Trans Date  Post Date                Description  Amount       Kind\n",
       "0  Sale 2016-12-31 2017-01-01           PAYPAL *DIGIZONE   -2.17      Goods\n",
       "1  Sale 2016-12-31 2017-01-01  SQ *COOL TEA BAR  WAVERLY   -8.72      Foods\n",
       "2  Sale 2016-12-30 2017-01-01     TARGET        00003202  -29.61      Goods\n",
       "3  Sale 2016-12-30 2017-01-01             99 RANCH #1769  -47.59  Groceries\n",
       "4  Sale 2016-12-30 2017-01-01                A&amp;A GAS  -23.62       Auto"
      ]
     },
     "execution_count": 3,
     "metadata": {},
     "output_type": "execute_result"
    }
   ],
   "source": [
    "dateparse = lambda x: pd.datetime.strptime(x, '%Y-%m-%d')\n",
    "df = pd.read_csv(data_file, parse_dates=['Trans Date', 'Post Date'], date_parser=dateparse)\n",
    "df.head(5)"
   ]
  },
  {
   "cell_type": "markdown",
   "metadata": {
    "deletable": true,
    "editable": true
   },
   "source": [
    "# 3. Get year-month\n",
    "\n",
    "- I want to see my cumulative expenditures in a monthly basis"
   ]
  },
  {
   "cell_type": "code",
   "execution_count": 4,
   "metadata": {
    "collapsed": true,
    "deletable": true,
    "editable": true
   },
   "outputs": [],
   "source": [
    "def get_year_month(date):\n",
    "    if date.month > 9:\n",
    "        return f\"{date.year}-{date.month}\"\n",
    "    else:\n",
    "        return f\"{date.year}-0{date.month}\""
   ]
  },
  {
   "cell_type": "code",
   "execution_count": 5,
   "metadata": {
    "collapsed": false,
    "deletable": true,
    "editable": true
   },
   "outputs": [],
   "source": [
    "df['YearMonth'] = df['Trans Date'].map(get_year_month)\n",
    "year_month_order = df.groupby('YearMonth').count().index.sort_values().tolist()"
   ]
  },
  {
   "cell_type": "markdown",
   "metadata": {
    "deletable": true,
    "editable": true
   },
   "source": [
    "# 4. Report begins here"
   ]
  },
  {
   "cell_type": "markdown",
   "metadata": {
    "deletable": true,
    "editable": true
   },
   "source": [
    "## Q: How many expenditure I spent each month"
   ]
  },
  {
   "cell_type": "code",
   "execution_count": 6,
   "metadata": {
    "collapsed": false,
    "deletable": true,
    "editable": true
   },
   "outputs": [
    {
     "data": {
      "image/png": "[encoded data removed]",
      "text/plain": [
       "<matplotlib.figure.Figure at 0x1068499b0>"
      ]
     },
     "metadata": {},
     "output_type": "display_data"
    }
   ],
   "source": [
    "sns.countplot(df.YearMonth, order=year_month_order)\n",
    "plt.xlabel(\"\")\n",
    "plt.ylabel(\"# of expenditures\")\n",
    "plt.title(\"Number of Expenditure per Month\")\n",
    "plt.show()"
   ]
  },
  {
   "cell_type": "markdown",
   "metadata": {
    "deletable": true,
    "editable": true
   },
   "source": [
    "## Q: How much did I spend each month?"
   ]
  },
  {
   "cell_type": "code",
   "execution_count": 7,
   "metadata": {
    "collapsed": false,
    "deletable": true,
    "editable": true
   },
   "outputs": [
    {
     "data": {
      "text/html": [
       "<div>\n",
       "<table border=\"1\" class=\"dataframe\">\n",
       "  <thead>\n",
       "    <tr style=\"text-align: right;\">\n",
       "      <th></th>\n",
       "      <th>Amount</th>\n",
       "    </tr>\n",
       "    <tr>\n",
       "      <th>YearMonth</th>\n",
       "      <th></th>\n",
       "    </tr>\n",
       "  </thead>\n",
       "  <tbody>\n",
       "    <tr>\n",
       "      <th>2016-09</th>\n",
       "      <td>627.94</td>\n",
       "    </tr>\n",
       "    <tr>\n",
       "      <th>2016-10</th>\n",
       "      <td>3525.39</td>\n",
       "    </tr>\n",
       "    <tr>\n",
       "      <th>2016-11</th>\n",
       "      <td>4695.24</td>\n",
       "    </tr>\n",
       "    <tr>\n",
       "      <th>2016-12</th>\n",
       "      <td>3919.78</td>\n",
       "    </tr>\n",
       "    <tr>\n",
       "      <th>2017-01</th>\n",
       "      <td>2394.09</td>\n",
       "    </tr>\n",
       "  </tbody>\n",
       "</table>\n",
       "</div>"
      ],
      "text/plain": [
       "            Amount\n",
       "YearMonth         \n",
       "2016-09     627.94\n",
       "2016-10    3525.39\n",
       "2016-11    4695.24\n",
       "2016-12    3919.78\n",
       "2017-01    2394.09"
      ]
     },
     "execution_count": 7,
     "metadata": {},
     "output_type": "execute_result"
    }
   ],
   "source": [
    "monthly_expense = abs(df[df.Amount < 0.0].groupby(\"YearMonth\").sum()[['Amount']])\n",
    "monthly_expense"
   ]
  },
  {
   "cell_type": "code",
   "execution_count": 8,
   "metadata": {
    "collapsed": false,
    "deletable": true,
    "editable": true
   },
   "outputs": [
    {
     "data": {
      "image/png": "[encoded data removed]",
      "text/plain": [
       "<matplotlib.figure.Figure at 0x10b2c6fd0>"
      ]
     },
     "metadata": {},
     "output_type": "display_data"
    }
   ],
   "source": [
    "ax = sns.barplot(x='YearMonth', y='Amount', ci=None, data=df[df.Amount < 0], color=\"salmon\", estimator=sum, order=year_month_order)\n",
    "ax.get_yaxis().set_major_formatter( matplotlib.ticker.FuncFormatter(lambda x, p: format(int(x), ',')))\n",
    "plt.title(\"Monthly Expense\")\n",
    "plt.xlabel(\"\")\n",
    "plt.ylabel(\"Expense\")\n",
    "plt.show()"
   ]
  },
  {
   "cell_type": "markdown",
   "metadata": {
    "deletable": true,
    "editable": true
   },
   "source": [
    "# Compare to the previous month (category)"
   ]
  },
  {
   "cell_type": "code",
   "execution_count": 9,
   "metadata": {
    "collapsed": false,
    "deletable": true,
    "editable": true
   },
   "outputs": [],
   "source": [
    "last_month = monthly_expense.index[-1]\n",
    "month_before_last_month = monthly_expense.index[-2]"
   ]
  },
  {
   "cell_type": "code",
   "execution_count": 10,
   "metadata": {
    "collapsed": false,
    "deletable": true,
    "editable": true
   },
   "outputs": [],
   "source": [
    "compare_df = df[(df.YearMonth == last_month) | (df.YearMonth == month_before_last_month)]"
   ]
  },
  {
   "cell_type": "code",
   "execution_count": 11,
   "metadata": {
    "collapsed": false,
    "deletable": true,
    "editable": true
   },
   "outputs": [
    {
     "data": {
      "text/html": [
       "<div>\n",
       "<table border=\"1\" class=\"dataframe\">\n",
       "  <thead>\n",
       "    <tr style=\"text-align: right;\">\n",
       "      <th></th>\n",
       "      <th></th>\n",
       "      <th>Amount</th>\n",
       "    </tr>\n",
       "    <tr>\n",
       "      <th>Kind</th>\n",
       "      <th>YearMonth</th>\n",
       "      <th></th>\n",
       "    </tr>\n",
       "  </thead>\n",
       "  <tbody>\n",
       "    <tr>\n",
       "      <th rowspan=\"2\" valign=\"top\">Auto</th>\n",
       "      <th>2016-12</th>\n",
       "      <td>-279.00</td>\n",
       "    </tr>\n",
       "    <tr>\n",
       "      <th>2017-01</th>\n",
       "      <td>-173.91</td>\n",
       "    </tr>\n",
       "    <tr>\n",
       "      <th rowspan=\"2\" valign=\"top\">Clothing</th>\n",
       "      <th>2016-12</th>\n",
       "      <td>-106.17</td>\n",
       "    </tr>\n",
       "    <tr>\n",
       "      <th>2017-01</th>\n",
       "      <td>-431.37</td>\n",
       "    </tr>\n",
       "    <tr>\n",
       "      <th rowspan=\"2\" valign=\"top\">Coffee</th>\n",
       "      <th>2016-12</th>\n",
       "      <td>-12.27</td>\n",
       "    </tr>\n",
       "    <tr>\n",
       "      <th>2017-01</th>\n",
       "      <td>-16.80</td>\n",
       "    </tr>\n",
       "    <tr>\n",
       "      <th rowspan=\"2\" valign=\"top\">Foods</th>\n",
       "      <th>2016-12</th>\n",
       "      <td>-367.57</td>\n",
       "    </tr>\n",
       "    <tr>\n",
       "      <th>2017-01</th>\n",
       "      <td>-311.91</td>\n",
       "    </tr>\n",
       "    <tr>\n",
       "      <th>Furniture</th>\n",
       "      <th>2016-12</th>\n",
       "      <td>-226.62</td>\n",
       "    </tr>\n",
       "    <tr>\n",
       "      <th rowspan=\"2\" valign=\"top\">Goods</th>\n",
       "      <th>2016-12</th>\n",
       "      <td>-1028.09</td>\n",
       "    </tr>\n",
       "    <tr>\n",
       "      <th>2017-01</th>\n",
       "      <td>-310.79</td>\n",
       "    </tr>\n",
       "    <tr>\n",
       "      <th rowspan=\"2\" valign=\"top\">Groceries</th>\n",
       "      <th>2016-12</th>\n",
       "      <td>-773.64</td>\n",
       "    </tr>\n",
       "    <tr>\n",
       "      <th>2017-01</th>\n",
       "      <td>-653.10</td>\n",
       "    </tr>\n",
       "    <tr>\n",
       "      <th>Internet</th>\n",
       "      <th>2017-01</th>\n",
       "      <td>-79.99</td>\n",
       "    </tr>\n",
       "    <tr>\n",
       "      <th rowspan=\"2\" valign=\"top\">Medical</th>\n",
       "      <th>2016-12</th>\n",
       "      <td>-36.34</td>\n",
       "    </tr>\n",
       "    <tr>\n",
       "      <th>2017-01</th>\n",
       "      <td>-10.00</td>\n",
       "    </tr>\n",
       "    <tr>\n",
       "      <th rowspan=\"2\" valign=\"top\">Payment</th>\n",
       "      <th>2016-12</th>\n",
       "      <td>3688.28</td>\n",
       "    </tr>\n",
       "    <tr>\n",
       "      <th>2017-01</th>\n",
       "      <td>5487.84</td>\n",
       "    </tr>\n",
       "    <tr>\n",
       "      <th rowspan=\"2\" valign=\"top\">Phone</th>\n",
       "      <th>2016-12</th>\n",
       "      <td>-111.66</td>\n",
       "    </tr>\n",
       "    <tr>\n",
       "      <th>2017-01</th>\n",
       "      <td>-111.37</td>\n",
       "    </tr>\n",
       "    <tr>\n",
       "      <th>Return</th>\n",
       "      <th>2017-01</th>\n",
       "      <td>149.66</td>\n",
       "    </tr>\n",
       "    <tr>\n",
       "      <th rowspan=\"2\" valign=\"top\">Study</th>\n",
       "      <th>2016-12</th>\n",
       "      <td>-820.54</td>\n",
       "    </tr>\n",
       "    <tr>\n",
       "      <th>2017-01</th>\n",
       "      <td>-211.13</td>\n",
       "    </tr>\n",
       "  </tbody>\n",
       "</table>\n",
       "</div>"
      ],
      "text/plain": [
       "                      Amount\n",
       "Kind      YearMonth         \n",
       "Auto      2016-12    -279.00\n",
       "          2017-01    -173.91\n",
       "Clothing  2016-12    -106.17\n",
       "          2017-01    -431.37\n",
       "Coffee    2016-12     -12.27\n",
       "          2017-01     -16.80\n",
       "Foods     2016-12    -367.57\n",
       "          2017-01    -311.91\n",
       "Furniture 2016-12    -226.62\n",
       "Goods     2016-12   -1028.09\n",
       "          2017-01    -310.79\n",
       "Groceries 2016-12    -773.64\n",
       "          2017-01    -653.10\n",
       "Internet  2017-01     -79.99\n",
       "Medical   2016-12     -36.34\n",
       "          2017-01     -10.00\n",
       "Payment   2016-12    3688.28\n",
       "          2017-01    5487.84\n",
       "Phone     2016-12    -111.66\n",
       "          2017-01    -111.37\n",
       "Return    2017-01     149.66\n",
       "Study     2016-12    -820.54\n",
       "          2017-01    -211.13"
      ]
     },
     "execution_count": 11,
     "metadata": {},
     "output_type": "execute_result"
    }
   ],
   "source": [
    "compare_df.groupby([\"Kind\", \"YearMonth\"]).sum()[['Amount']]"
   ]
  },
  {
   "cell_type": "markdown",
   "metadata": {
    "deletable": true,
    "editable": true
   },
   "source": [
    "## Q: which category did I spend most compared to last month?"
   ]
  },
  {
   "cell_type": "code",
   "execution_count": 12,
   "metadata": {
    "collapsed": false,
    "deletable": true,
    "editable": true
   },
   "outputs": [
    {
     "data": {
      "image/png": "[encoded data removed]",
      "text/plain": [
       "<matplotlib.figure.Figure at 0x10b3170f0>"
      ]
     },
     "metadata": {},
     "output_type": "display_data"
    }
   ],
   "source": [
    "plt.figure(figsize=(15, 10))\n",
    "ax = sns.barplot(x='Kind', y='Amount', hue='YearMonth', estimator=sum, hue_order=year_month_order[-2:], data=compare_df[compare_df.Kind != 'Payment'], ci=None)\n",
    "ax.get_yaxis().set_major_formatter( matplotlib.ticker.FuncFormatter(lambda x, p: format(int(x), ',')))\n",
    "plt.grid('on')\n",
    "plt.title(\"Expenditure per categories\")\n",
    "plt.xlabel(\"Categories\")\n",
    "plt.xlabel(\"\")\n",
    "plt.ylabel(\"Sum of Expenditure\")\n",
    "plt.show()"
   ]
  }
 ],
 "metadata": {
  "kernelspec": {
   "display_name": "Python 3",
   "language": "python",
   "name": "python3"
  },
  "language_info": {
   "codemirror_mode": {
    "name": "ipython",
    "version": 3
   },
   "file_extension": ".py",
   "mimetype": "text/x-python",
   "name": "python",
   "nbconvert_exporter": "python",
   "pygments_lexer": "ipython3",
   "version": "3.6.0"
  }
 },
 "nbformat": 4,
 "nbformat_minor": 2
}
