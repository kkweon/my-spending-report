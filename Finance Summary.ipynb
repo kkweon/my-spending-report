{
 "cells": [
  {
   "cell_type": "code",
   "execution_count": 1,
   "metadata": {
    "collapsed": false
   },
   "outputs": [],
   "source": [
    "import pandas as pd\n",
    "import matplotlib\n",
    "import matplotlib.pyplot as plt\n",
    "import seaborn as sns\n",
    "%matplotlib inline"
   ]
  },
  {
   "cell_type": "markdown",
   "metadata": {},
   "source": [
    "## Load data and head()"
   ]
  },
  {
   "cell_type": "code",
   "execution_count": 2,
   "metadata": {
    "collapsed": true
   },
   "outputs": [],
   "source": [
    "data_file = \"data/Chase Activity.xlsx\""
   ]
  },
  {
   "cell_type": "code",
   "execution_count": 36,
   "metadata": {
    "collapsed": false
   },
   "outputs": [
    {
     "data": {
      "text/html": [
       "<div>\n",
       "<table border=\"1\" class=\"dataframe\">\n",
       "  <thead>\n",
       "    <tr style=\"text-align: right;\">\n",
       "      <th></th>\n",
       "      <th>Type</th>\n",
       "      <th>Trans Date</th>\n",
       "      <th>Post Date</th>\n",
       "      <th>Description</th>\n",
       "      <th>Amount</th>\n",
       "      <th>Kind</th>\n",
       "      <th>Expense</th>\n",
       "    </tr>\n",
       "  </thead>\n",
       "  <tbody>\n",
       "    <tr>\n",
       "      <th>0</th>\n",
       "      <td>Sale</td>\n",
       "      <td>2016-12-31</td>\n",
       "      <td>2017-01-01</td>\n",
       "      <td>PAYPAL *DIGIZONE</td>\n",
       "      <td>-2.17</td>\n",
       "      <td>Goods</td>\n",
       "      <td>1</td>\n",
       "    </tr>\n",
       "    <tr>\n",
       "      <th>1</th>\n",
       "      <td>Sale</td>\n",
       "      <td>2016-12-31</td>\n",
       "      <td>2017-01-01</td>\n",
       "      <td>SQ *COOL TEA BAR  WAVERLY</td>\n",
       "      <td>-8.72</td>\n",
       "      <td>Foods</td>\n",
       "      <td>1</td>\n",
       "    </tr>\n",
       "    <tr>\n",
       "      <th>2</th>\n",
       "      <td>Sale</td>\n",
       "      <td>2016-12-30</td>\n",
       "      <td>2017-01-01</td>\n",
       "      <td>TARGET        00003202</td>\n",
       "      <td>-29.61</td>\n",
       "      <td>Goods</td>\n",
       "      <td>1</td>\n",
       "    </tr>\n",
       "    <tr>\n",
       "      <th>3</th>\n",
       "      <td>Sale</td>\n",
       "      <td>2016-12-30</td>\n",
       "      <td>2017-01-01</td>\n",
       "      <td>99 RANCH #1769</td>\n",
       "      <td>-47.59</td>\n",
       "      <td>Groceries</td>\n",
       "      <td>1</td>\n",
       "    </tr>\n",
       "    <tr>\n",
       "      <th>4</th>\n",
       "      <td>Sale</td>\n",
       "      <td>2016-12-30</td>\n",
       "      <td>2017-01-01</td>\n",
       "      <td>A&amp;amp;A GAS</td>\n",
       "      <td>-23.62</td>\n",
       "      <td>Auto</td>\n",
       "      <td>1</td>\n",
       "    </tr>\n",
       "  </tbody>\n",
       "</table>\n",
       "</div>"
      ],
      "text/plain": [
       "   Type Trans Date  Post Date                Description  Amount       Kind  \\\n",
       "0  Sale 2016-12-31 2017-01-01           PAYPAL *DIGIZONE   -2.17      Goods   \n",
       "1  Sale 2016-12-31 2017-01-01  SQ *COOL TEA BAR  WAVERLY   -8.72      Foods   \n",
       "2  Sale 2016-12-30 2017-01-01     TARGET        00003202  -29.61      Goods   \n",
       "3  Sale 2016-12-30 2017-01-01             99 RANCH #1769  -47.59  Groceries   \n",
       "4  Sale 2016-12-30 2017-01-01                A&amp;A GAS  -23.62       Auto   \n",
       "\n",
       "   Expense  \n",
       "0        1  \n",
       "1        1  \n",
       "2        1  \n",
       "3        1  \n",
       "4        1  "
      ]
     },
     "execution_count": 36,
     "metadata": {},
     "output_type": "execute_result"
    }
   ],
   "source": [
    "df = pd.read_excel(data_file, sheetname=\"Summary\")\n",
    "df.head(5)"
   ]
  },
  {
   "cell_type": "markdown",
   "metadata": {},
   "source": [
    "## Get Year-Month"
   ]
  },
  {
   "cell_type": "code",
   "execution_count": 4,
   "metadata": {
    "collapsed": true
   },
   "outputs": [],
   "source": [
    "def get_year_month(date):\n",
    "    if date.month > 9:\n",
    "        return f\"{date.year}-{date.month}\"\n",
    "    else:\n",
    "        return f\"{date.year}-0{date.month}\""
   ]
  },
  {
   "cell_type": "code",
   "execution_count": 5,
   "metadata": {
    "collapsed": false
   },
   "outputs": [],
   "source": [
    "df['YearMonth'] = df['Trans Date'].map(get_year_month)"
   ]
  },
  {
   "cell_type": "markdown",
   "metadata": {},
   "source": [
    "## Monthly Expense"
   ]
  },
  {
   "cell_type": "code",
   "execution_count": 6,
   "metadata": {
    "collapsed": false
   },
   "outputs": [
    {
     "data": {
      "text/html": [
       "<div>\n",
       "<table border=\"1\" class=\"dataframe\">\n",
       "  <thead>\n",
       "    <tr style=\"text-align: right;\">\n",
       "      <th></th>\n",
       "      <th>Amount</th>\n",
       "    </tr>\n",
       "    <tr>\n",
       "      <th>YearMonth</th>\n",
       "      <th></th>\n",
       "    </tr>\n",
       "  </thead>\n",
       "  <tbody>\n",
       "    <tr>\n",
       "      <th>2016-09</th>\n",
       "      <td>1152.38</td>\n",
       "    </tr>\n",
       "    <tr>\n",
       "      <th>2016-10</th>\n",
       "      <td>3963.88</td>\n",
       "    </tr>\n",
       "    <tr>\n",
       "      <th>2016-11</th>\n",
       "      <td>4914.10</td>\n",
       "    </tr>\n",
       "    <tr>\n",
       "      <th>2016-12</th>\n",
       "      <td>4429.90</td>\n",
       "    </tr>\n",
       "  </tbody>\n",
       "</table>\n",
       "</div>"
      ],
      "text/plain": [
       "            Amount\n",
       "YearMonth         \n",
       "2016-09    1152.38\n",
       "2016-10    3963.88\n",
       "2016-11    4914.10\n",
       "2016-12    4429.90"
      ]
     },
     "execution_count": 6,
     "metadata": {},
     "output_type": "execute_result"
    }
   ],
   "source": [
    "monthly_expense = abs(df[df.Amount < 0.0].groupby(\"YearMonth\").sum()[['Amount']])\n",
    "monthly_expense"
   ]
  },
  {
   "cell_type": "code",
   "execution_count": 15,
   "metadata": {
    "collapsed": false
   },
   "outputs": [
    {
     "data": {
      "image/png": "[encoded data removed]",
      "text/plain": [
       "<matplotlib.figure.Figure at 0x10944d550>"
      ]
     },
     "metadata": {},
     "output_type": "display_data"
    }
   ],
   "source": [
    "ax = sns.barplot(x='YearMonth', y='Amount', ci=None, data=df[df.Amount < 0], color=\"salmon\", estimator=sum, order=monthly_expense.index)\n",
    "ax.get_yaxis().set_major_formatter( matplotlib.ticker.FuncFormatter(lambda x, p: format(int(x), ',')))\n",
    "plt.title(\"Monthly Expense\")\n",
    "plt.xlabel(\"\")\n",
    "plt.ylabel(\"Expense\")\n",
    "plt.show()"
   ]
  },
  {
   "cell_type": "markdown",
   "metadata": {},
   "source": [
    "## Compare (Last Month vs The month before Last Month"
   ]
  },
  {
   "cell_type": "code",
   "execution_count": 18,
   "metadata": {
    "collapsed": false
   },
   "outputs": [],
   "source": [
    "last_month = monthly_expense.index[-1]\n",
    "month_before_last_month = monthly_expense.index[-2]"
   ]
  },
  {
   "cell_type": "code",
   "execution_count": 23,
   "metadata": {
    "collapsed": false
   },
   "outputs": [],
   "source": [
    "compare_df = df[(df.YearMonth == last_month) | (df.YearMonth == month_before_last_month)]"
   ]
  },
  {
   "cell_type": "code",
   "execution_count": 35,
   "metadata": {
    "collapsed": false
   },
   "outputs": [
    {
     "data": {
      "text/html": [
       "<div>\n",
       "<table border=\"1\" class=\"dataframe\">\n",
       "  <thead>\n",
       "    <tr style=\"text-align: right;\">\n",
       "      <th></th>\n",
       "      <th></th>\n",
       "      <th>Amount</th>\n",
       "    </tr>\n",
       "    <tr>\n",
       "      <th>Kind</th>\n",
       "      <th>YearMonth</th>\n",
       "      <th></th>\n",
       "    </tr>\n",
       "  </thead>\n",
       "  <tbody>\n",
       "    <tr>\n",
       "      <th rowspan=\"2\" valign=\"top\">Auto</th>\n",
       "      <th>2016-11</th>\n",
       "      <td>-492.09</td>\n",
       "    </tr>\n",
       "    <tr>\n",
       "      <th>2016-12</th>\n",
       "      <td>-279.00</td>\n",
       "    </tr>\n",
       "    <tr>\n",
       "      <th rowspan=\"2\" valign=\"top\">Clothing</th>\n",
       "      <th>2016-11</th>\n",
       "      <td>-551.96</td>\n",
       "    </tr>\n",
       "    <tr>\n",
       "      <th>2016-12</th>\n",
       "      <td>-106.17</td>\n",
       "    </tr>\n",
       "    <tr>\n",
       "      <th rowspan=\"2\" valign=\"top\">Coffee</th>\n",
       "      <th>2016-11</th>\n",
       "      <td>-27.45</td>\n",
       "    </tr>\n",
       "    <tr>\n",
       "      <th>2016-12</th>\n",
       "      <td>-12.27</td>\n",
       "    </tr>\n",
       "    <tr>\n",
       "      <th>Etc</th>\n",
       "      <th>2016-12</th>\n",
       "      <td>-275.99</td>\n",
       "    </tr>\n",
       "    <tr>\n",
       "      <th rowspan=\"2\" valign=\"top\">Foods</th>\n",
       "      <th>2016-11</th>\n",
       "      <td>-223.78</td>\n",
       "    </tr>\n",
       "    <tr>\n",
       "      <th>2016-12</th>\n",
       "      <td>-358.85</td>\n",
       "    </tr>\n",
       "    <tr>\n",
       "      <th rowspan=\"2\" valign=\"top\">Furniture</th>\n",
       "      <th>2016-11</th>\n",
       "      <td>-1380.38</td>\n",
       "    </tr>\n",
       "    <tr>\n",
       "      <th>2016-12</th>\n",
       "      <td>-226.62</td>\n",
       "    </tr>\n",
       "    <tr>\n",
       "      <th rowspan=\"2\" valign=\"top\">Goods</th>\n",
       "      <th>2016-11</th>\n",
       "      <td>-860.54</td>\n",
       "    </tr>\n",
       "    <tr>\n",
       "      <th>2016-12</th>\n",
       "      <td>-1002.95</td>\n",
       "    </tr>\n",
       "    <tr>\n",
       "      <th rowspan=\"2\" valign=\"top\">Groceries</th>\n",
       "      <th>2016-11</th>\n",
       "      <td>-956.82</td>\n",
       "    </tr>\n",
       "    <tr>\n",
       "      <th>2016-12</th>\n",
       "      <td>-773.64</td>\n",
       "    </tr>\n",
       "    <tr>\n",
       "      <th rowspan=\"2\" valign=\"top\">Internet</th>\n",
       "      <th>2016-11</th>\n",
       "      <td>-44.98</td>\n",
       "    </tr>\n",
       "    <tr>\n",
       "      <th>2016-12</th>\n",
       "      <td>-79.99</td>\n",
       "    </tr>\n",
       "    <tr>\n",
       "      <th rowspan=\"2\" valign=\"top\">Medical</th>\n",
       "      <th>2016-11</th>\n",
       "      <td>-20.00</td>\n",
       "    </tr>\n",
       "    <tr>\n",
       "      <th>2016-12</th>\n",
       "      <td>-36.34</td>\n",
       "    </tr>\n",
       "    <tr>\n",
       "      <th>Membership</th>\n",
       "      <th>2016-11</th>\n",
       "      <td>-107.91</td>\n",
       "    </tr>\n",
       "    <tr>\n",
       "      <th>Music</th>\n",
       "      <th>2016-11</th>\n",
       "      <td>-16.97</td>\n",
       "    </tr>\n",
       "    <tr>\n",
       "      <th>Parking</th>\n",
       "      <th>2016-11</th>\n",
       "      <td>-3.00</td>\n",
       "    </tr>\n",
       "    <tr>\n",
       "      <th rowspan=\"2\" valign=\"top\">Payment</th>\n",
       "      <th>2016-11</th>\n",
       "      <td>735.89</td>\n",
       "    </tr>\n",
       "    <tr>\n",
       "      <th>2016-12</th>\n",
       "      <td>3688.28</td>\n",
       "    </tr>\n",
       "    <tr>\n",
       "      <th rowspan=\"2\" valign=\"top\">Phone</th>\n",
       "      <th>2016-11</th>\n",
       "      <td>-132.39</td>\n",
       "    </tr>\n",
       "    <tr>\n",
       "      <th>2016-12</th>\n",
       "      <td>-111.66</td>\n",
       "    </tr>\n",
       "    <tr>\n",
       "      <th>Return</th>\n",
       "      <th>2016-11</th>\n",
       "      <td>843.12</td>\n",
       "    </tr>\n",
       "    <tr>\n",
       "      <th rowspan=\"2\" valign=\"top\">Study</th>\n",
       "      <th>2016-11</th>\n",
       "      <td>-13.00</td>\n",
       "    </tr>\n",
       "    <tr>\n",
       "      <th>2016-12</th>\n",
       "      <td>-820.54</td>\n",
       "    </tr>\n",
       "    <tr>\n",
       "      <th>Travel</th>\n",
       "      <th>2016-12</th>\n",
       "      <td>-46.00</td>\n",
       "    </tr>\n",
       "    <tr>\n",
       "      <th>Unknown</th>\n",
       "      <th>2016-11</th>\n",
       "      <td>-46.00</td>\n",
       "    </tr>\n",
       "  </tbody>\n",
       "</table>\n",
       "</div>"
      ],
      "text/plain": [
       "                       Amount\n",
       "Kind       YearMonth         \n",
       "Auto       2016-11    -492.09\n",
       "           2016-12    -279.00\n",
       "Clothing   2016-11    -551.96\n",
       "           2016-12    -106.17\n",
       "Coffee     2016-11     -27.45\n",
       "           2016-12     -12.27\n",
       "Etc        2016-12    -275.99\n",
       "Foods      2016-11    -223.78\n",
       "           2016-12    -358.85\n",
       "Furniture  2016-11   -1380.38\n",
       "           2016-12    -226.62\n",
       "Goods      2016-11    -860.54\n",
       "           2016-12   -1002.95\n",
       "Groceries  2016-11    -956.82\n",
       "           2016-12    -773.64\n",
       "Internet   2016-11     -44.98\n",
       "           2016-12     -79.99\n",
       "Medical    2016-11     -20.00\n",
       "           2016-12     -36.34\n",
       "Membership 2016-11    -107.91\n",
       "Music      2016-11     -16.97\n",
       "Parking    2016-11      -3.00\n",
       "Payment    2016-11     735.89\n",
       "           2016-12    3688.28\n",
       "Phone      2016-11    -132.39\n",
       "           2016-12    -111.66\n",
       "Return     2016-11     843.12\n",
       "Study      2016-11     -13.00\n",
       "           2016-12    -820.54\n",
       "Travel     2016-12     -46.00\n",
       "Unknown    2016-11     -46.00"
      ]
     },
     "execution_count": 35,
     "metadata": {},
     "output_type": "execute_result"
    }
   ],
   "source": [
    "compare_df.groupby([\"Kind\", \"YearMonth\"]).sum()[['Amount']]"
   ]
  },
  {
   "cell_type": "code",
   "execution_count": null,
   "metadata": {
    "collapsed": true
   },
   "outputs": [],
   "source": []
  }
 ],
 "metadata": {
  "kernelspec": {
   "display_name": "Python 3",
   "language": "python",
   "name": "python3"
  },
  "language_info": {
   "codemirror_mode": {
    "name": "ipython",
    "version": 3
   },
   "file_extension": ".py",
   "mimetype": "text/x-python",
   "name": "python",
   "nbconvert_exporter": "python",
   "pygments_lexer": "ipython3",
   "version": "3.6.0"
  }
 },
 "nbformat": 4,
 "nbformat_minor": 2
}
