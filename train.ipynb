{
 "cells": [
  {
   "cell_type": "markdown",
   "metadata": {},
   "source": [
    "# Train a Model\n",
    "\n",
    "In this script, I'm going to train a model that will predict what cateogries my card spending belong to.\n",
    "\n",
    "Some categories include:\n",
    "\n",
    "* Goods\n",
    "* Foods\n",
    "* Groceries\n",
    "* Coffee\n",
    "* and more"
   ]
  },
  {
   "cell_type": "markdown",
   "metadata": {},
   "source": [
    "## Dependencies"
   ]
  },
  {
   "cell_type": "code",
   "execution_count": 1,
   "metadata": {
    "collapsed": true
   },
   "outputs": [],
   "source": [
    "import pandas as pd\n",
    "import re\n",
    "import numpy as np\n",
    "\n",
    "from sklearn import preprocessing\n",
    "from sklearn.ensemble import RandomForestClassifier\n",
    "from sklearn.model_selection import train_test_split, GridSearchCV\n",
    "from sklearn.feature_extraction.text import CountVectorizer"
   ]
  },
  {
   "cell_type": "markdown",
   "metadata": {},
   "source": [
    "## Datasets\n",
    "\n",
    "There are two files\n",
    "\n",
    "* My past credit card usage summary -> train\n",
    "* This month credit card usage summary -> test"
   ]
  },
  {
   "cell_type": "code",
   "execution_count": 2,
   "metadata": {
    "scrolled": true
   },
   "outputs": [
    {
     "data": {
      "text/html": [
       "<div>\n",
       "<style>\n",
       "    .dataframe thead tr:only-child th {\n",
       "        text-align: right;\n",
       "    }\n",
       "\n",
       "    .dataframe thead th {\n",
       "        text-align: left;\n",
       "    }\n",
       "\n",
       "    .dataframe tbody tr th {\n",
       "        vertical-align: top;\n",
       "    }\n",
       "</style>\n",
       "<table border=\"1\" class=\"dataframe\">\n",
       "  <thead>\n",
       "    <tr style=\"text-align: right;\">\n",
       "      <th></th>\n",
       "      <th>Type</th>\n",
       "      <th>Trans Date</th>\n",
       "      <th>Post Date</th>\n",
       "      <th>Description</th>\n",
       "      <th>Amount</th>\n",
       "      <th>Kind</th>\n",
       "    </tr>\n",
       "  </thead>\n",
       "  <tbody>\n",
       "    <tr>\n",
       "      <th>0</th>\n",
       "      <td>Sale</td>\n",
       "      <td>2016-12-31</td>\n",
       "      <td>2017-01-01</td>\n",
       "      <td>PAYPAL *DIGIZONE</td>\n",
       "      <td>-2.17</td>\n",
       "      <td>Goods</td>\n",
       "    </tr>\n",
       "    <tr>\n",
       "      <th>1</th>\n",
       "      <td>Sale</td>\n",
       "      <td>2016-12-31</td>\n",
       "      <td>2017-01-01</td>\n",
       "      <td>SQ *COOL TEA BAR  WAVERLY</td>\n",
       "      <td>-8.72</td>\n",
       "      <td>Foods</td>\n",
       "    </tr>\n",
       "    <tr>\n",
       "      <th>2</th>\n",
       "      <td>Sale</td>\n",
       "      <td>2016-12-30</td>\n",
       "      <td>2017-01-01</td>\n",
       "      <td>TARGET        00003202</td>\n",
       "      <td>-29.61</td>\n",
       "      <td>Goods</td>\n",
       "    </tr>\n",
       "    <tr>\n",
       "      <th>3</th>\n",
       "      <td>Sale</td>\n",
       "      <td>2016-12-30</td>\n",
       "      <td>2017-01-01</td>\n",
       "      <td>99 RANCH #1769</td>\n",
       "      <td>-47.59</td>\n",
       "      <td>Groceries</td>\n",
       "    </tr>\n",
       "    <tr>\n",
       "      <th>4</th>\n",
       "      <td>Sale</td>\n",
       "      <td>2016-12-30</td>\n",
       "      <td>2017-01-01</td>\n",
       "      <td>A&amp;amp;A GAS</td>\n",
       "      <td>-23.62</td>\n",
       "      <td>Auto</td>\n",
       "    </tr>\n",
       "  </tbody>\n",
       "</table>\n",
       "</div>"
      ],
      "text/plain": [
       "   Type Trans Date  Post Date                Description  Amount       Kind\n",
       "0  Sale 2016-12-31 2017-01-01           PAYPAL *DIGIZONE   -2.17      Goods\n",
       "1  Sale 2016-12-31 2017-01-01  SQ *COOL TEA BAR  WAVERLY   -8.72      Foods\n",
       "2  Sale 2016-12-30 2017-01-01     TARGET        00003202  -29.61      Goods\n",
       "3  Sale 2016-12-30 2017-01-01             99 RANCH #1769  -47.59  Groceries\n",
       "4  Sale 2016-12-30 2017-01-01                A&amp;A GAS  -23.62       Auto"
      ]
     },
     "execution_count": 2,
     "metadata": {},
     "output_type": "execute_result"
    }
   ],
   "source": [
    "data = {\n",
    "    'train': 'data/final/merged_april_2017.csv',\n",
    "    'test': 'data/chase_may_7899.CSV'\n",
    "}\n",
    "dateparse = lambda x: pd.datetime.strptime(x, '%Y-%m-%d')\n",
    "train = pd.read_csv(data['train'], parse_dates=['Trans Date', 'Post Date'], date_parser=dateparse)\n",
    "train.head(5)"
   ]
  },
  {
   "cell_type": "code",
   "execution_count": 3,
   "metadata": {},
   "outputs": [
    {
     "data": {
      "text/html": [
       "<div>\n",
       "<style>\n",
       "    .dataframe thead tr:only-child th {\n",
       "        text-align: right;\n",
       "    }\n",
       "\n",
       "    .dataframe thead th {\n",
       "        text-align: left;\n",
       "    }\n",
       "\n",
       "    .dataframe tbody tr th {\n",
       "        vertical-align: top;\n",
       "    }\n",
       "</style>\n",
       "<table border=\"1\" class=\"dataframe\">\n",
       "  <thead>\n",
       "    <tr style=\"text-align: right;\">\n",
       "      <th></th>\n",
       "      <th>Type</th>\n",
       "      <th>Trans Date</th>\n",
       "      <th>Post Date</th>\n",
       "      <th>Description</th>\n",
       "      <th>Amount</th>\n",
       "    </tr>\n",
       "  </thead>\n",
       "  <tbody>\n",
       "    <tr>\n",
       "      <th>0</th>\n",
       "      <td>Sale</td>\n",
       "      <td>05/31/2017</td>\n",
       "      <td>06/02/2017</td>\n",
       "      <td>SAFEWAY STORE 00026062</td>\n",
       "      <td>-5.04</td>\n",
       "    </tr>\n",
       "    <tr>\n",
       "      <th>1</th>\n",
       "      <td>Sale</td>\n",
       "      <td>05/30/2017</td>\n",
       "      <td>05/31/2017</td>\n",
       "      <td>SICHUAN CHONG QING CUISIN</td>\n",
       "      <td>-30.40</td>\n",
       "    </tr>\n",
       "    <tr>\n",
       "      <th>2</th>\n",
       "      <td>Sale</td>\n",
       "      <td>05/30/2017</td>\n",
       "      <td>05/31/2017</td>\n",
       "      <td>ADIDAS ONLINE STORE</td>\n",
       "      <td>-43.40</td>\n",
       "    </tr>\n",
       "    <tr>\n",
       "      <th>3</th>\n",
       "      <td>Sale</td>\n",
       "      <td>05/29/2017</td>\n",
       "      <td>05/30/2017</td>\n",
       "      <td>Amazon.com</td>\n",
       "      <td>-57.42</td>\n",
       "    </tr>\n",
       "    <tr>\n",
       "      <th>4</th>\n",
       "      <td>Sale</td>\n",
       "      <td>05/28/2017</td>\n",
       "      <td>05/29/2017</td>\n",
       "      <td>ADIDAS ONLINE STORE</td>\n",
       "      <td>-43.50</td>\n",
       "    </tr>\n",
       "  </tbody>\n",
       "</table>\n",
       "</div>"
      ],
      "text/plain": [
       "   Type  Trans Date   Post Date                Description  Amount\n",
       "0  Sale  05/31/2017  06/02/2017     SAFEWAY STORE 00026062   -5.04\n",
       "1  Sale  05/30/2017  05/31/2017  SICHUAN CHONG QING CUISIN  -30.40\n",
       "2  Sale  05/30/2017  05/31/2017        ADIDAS ONLINE STORE  -43.40\n",
       "3  Sale  05/29/2017  05/30/2017                 Amazon.com  -57.42\n",
       "4  Sale  05/28/2017  05/29/2017        ADIDAS ONLINE STORE  -43.50"
      ]
     },
     "execution_count": 3,
     "metadata": {},
     "output_type": "execute_result"
    }
   ],
   "source": [
    "test = pd.read_csv(data['test'])\n",
    "test.head(5)"
   ]
  },
  {
   "cell_type": "markdown",
   "metadata": {},
   "source": [
    "## Preprocessing\n",
    "\n",
    "- Sum of categories have very few occurance\n",
    "- Those are better to be dropped for performance"
   ]
  },
  {
   "cell_type": "code",
   "execution_count": 4,
   "metadata": {},
   "outputs": [
    {
     "data": {
      "text/plain": [
       "['Internet']"
      ]
     },
     "execution_count": 4,
     "metadata": {},
     "output_type": "execute_result"
    }
   ],
   "source": [
    "gb = train.groupby('Kind')\n",
    "gb = gb.count()['Type']\n",
    "\n",
    "drop_index = gb[gb <= 5].index.tolist()\n",
    "drop_index"
   ]
  },
  {
   "cell_type": "code",
   "execution_count": 5,
   "metadata": {
    "collapsed": true
   },
   "outputs": [],
   "source": [
    "train = train[~train.Kind.isin(drop_index)]"
   ]
  },
  {
   "cell_type": "code",
   "execution_count": 6,
   "metadata": {},
   "outputs": [
    {
     "data": {
      "text/html": [
       "<div>\n",
       "<style>\n",
       "    .dataframe thead tr:only-child th {\n",
       "        text-align: right;\n",
       "    }\n",
       "\n",
       "    .dataframe thead th {\n",
       "        text-align: left;\n",
       "    }\n",
       "\n",
       "    .dataframe tbody tr th {\n",
       "        vertical-align: top;\n",
       "    }\n",
       "</style>\n",
       "<table border=\"1\" class=\"dataframe\">\n",
       "  <thead>\n",
       "    <tr style=\"text-align: right;\">\n",
       "      <th></th>\n",
       "      <th>Type</th>\n",
       "      <th>Trans Date</th>\n",
       "      <th>Post Date</th>\n",
       "      <th>Description</th>\n",
       "      <th>Amount</th>\n",
       "      <th>Kind</th>\n",
       "    </tr>\n",
       "  </thead>\n",
       "  <tbody>\n",
       "    <tr>\n",
       "      <th>0</th>\n",
       "      <td>Sale</td>\n",
       "      <td>2016-12-31</td>\n",
       "      <td>2017-01-01</td>\n",
       "      <td>PAYPAL *DIGIZONE</td>\n",
       "      <td>-2.17</td>\n",
       "      <td>Goods</td>\n",
       "    </tr>\n",
       "    <tr>\n",
       "      <th>1</th>\n",
       "      <td>Sale</td>\n",
       "      <td>2016-12-31</td>\n",
       "      <td>2017-01-01</td>\n",
       "      <td>SQ *COOL TEA BAR  WAVERLY</td>\n",
       "      <td>-8.72</td>\n",
       "      <td>Foods</td>\n",
       "    </tr>\n",
       "    <tr>\n",
       "      <th>2</th>\n",
       "      <td>Sale</td>\n",
       "      <td>2016-12-30</td>\n",
       "      <td>2017-01-01</td>\n",
       "      <td>TARGET        00003202</td>\n",
       "      <td>-29.61</td>\n",
       "      <td>Goods</td>\n",
       "    </tr>\n",
       "    <tr>\n",
       "      <th>3</th>\n",
       "      <td>Sale</td>\n",
       "      <td>2016-12-30</td>\n",
       "      <td>2017-01-01</td>\n",
       "      <td>99 RANCH #1769</td>\n",
       "      <td>-47.59</td>\n",
       "      <td>Groceries</td>\n",
       "    </tr>\n",
       "    <tr>\n",
       "      <th>4</th>\n",
       "      <td>Sale</td>\n",
       "      <td>2016-12-30</td>\n",
       "      <td>2017-01-01</td>\n",
       "      <td>A&amp;amp;A GAS</td>\n",
       "      <td>-23.62</td>\n",
       "      <td>Auto</td>\n",
       "    </tr>\n",
       "  </tbody>\n",
       "</table>\n",
       "</div>"
      ],
      "text/plain": [
       "   Type Trans Date  Post Date                Description  Amount       Kind\n",
       "0  Sale 2016-12-31 2017-01-01           PAYPAL *DIGIZONE   -2.17      Goods\n",
       "1  Sale 2016-12-31 2017-01-01  SQ *COOL TEA BAR  WAVERLY   -8.72      Foods\n",
       "2  Sale 2016-12-30 2017-01-01     TARGET        00003202  -29.61      Goods\n",
       "3  Sale 2016-12-30 2017-01-01             99 RANCH #1769  -47.59  Groceries\n",
       "4  Sale 2016-12-30 2017-01-01                A&amp;A GAS  -23.62       Auto"
      ]
     },
     "execution_count": 6,
     "metadata": {},
     "output_type": "execute_result"
    }
   ],
   "source": [
    "train.head()"
   ]
  },
  {
   "cell_type": "markdown",
   "metadata": {},
   "source": [
    "## Define helper methods\n",
    "\n",
    "- text process and vectorize description\n",
    "- one-hot encode dataframe"
   ]
  },
  {
   "cell_type": "code",
   "execution_count": 7,
   "metadata": {
    "collapsed": true
   },
   "outputs": [],
   "source": [
    "def preprocess_X(X:pd.DataFrame, processors=dict(), train=True):\n",
    "    if not train and not processors:\n",
    "        raise Exception(\"Processor should be given when train = False\")\n",
    "        \n",
    "    def keep_only_ABCs_and_lower(text):\n",
    "        except_letters = re.compile(r'(?![A-z]).')\n",
    "        return except_letters.sub(\" \", text.lower())\n",
    "\n",
    "    def convert_to_single_space(text):\n",
    "        multiple_whitespace = re.compile(r'\\s+')\n",
    "        assert isinstance(text, str), text\n",
    "        return multiple_whitespace.sub(\" \", text)\n",
    "\n",
    "    def keep_only_length_greater_than_2(text):\n",
    "        return \" \".join(word for word in text.split(' ') if len(word) > 2)\n",
    "\n",
    "    def text_process(text):\n",
    "        text = keep_only_ABCs_and_lower(text)\n",
    "        text = keep_only_length_greater_than_2(text)\n",
    "        text = convert_to_single_space(text)\n",
    "        return text\n",
    "    \n",
    "    def label_onehot_encode(data: pd.Series,\n",
    "                            label_encoder:preprocessing.LabelEncoder,\n",
    "                            onehot_encoder:preprocessing.OneHotEncoder,\n",
    "                            train=True,\n",
    "                           ) -> np.ndarray:\n",
    "                \n",
    "        if train:\n",
    "            \n",
    "            label_encoded = label_encoder.fit_transform(data).reshape(-1, 1)\n",
    "            onehot_encoded = onehot_encoder.fit_transform(label_encoded)\n",
    "            \n",
    "            return onehot_encoded\n",
    "\n",
    "        else:\n",
    "\n",
    "            label_encoded = label_encoder.transform(data).reshape(-1, 1)\n",
    "            onehot_encoded = onehot_encoder.transform(label_encoded)\n",
    "\n",
    "            return onehot_encoded\n",
    "\n",
    "        \n",
    "    scaler = processors.get('Scaler', preprocessing.StandardScaler())\n",
    "    vectorizer = processors.get('Vectorizer', CountVectorizer())\n",
    "    text_processor = processors.get('TextProcessor', text_process)\n",
    "    \n",
    "    label_encoder = processors.get(\"LabelEncoder\", preprocessing.LabelEncoder())\n",
    "    onehot_encoder = processors.get(\"OneHotEncoder\", preprocessing.OneHotEncoder(sparse=False))\n",
    "    \n",
    "    features = ['Type', 'Description', 'Amount']\n",
    "    assert all(feat in X.columns for feat in features), \"X does not have correct headers\"\n",
    "    X_features = X[features]\n",
    "\n",
    "    X_TYPE_ONE_HOT = label_onehot_encode(X_features['Type'], label_encoder, onehot_encoder, train)\n",
    "    X_DESCRIPTION = X_features['Description'].apply(text_processor)\n",
    "    \n",
    "    if train:\n",
    "        X_DESCRIPTION = vectorizer.fit_transform(X_DESCRIPTION).toarray()\n",
    "    else:\n",
    "        X_DESCRIPTION = vectorizer.transform(X_DESCRIPTION).toarray()\n",
    "    \n",
    "    X_AMOUNT = X_features['Amount'].values.reshape(-1, 1)\n",
    "    X_processed = np.concatenate((X_TYPE_ONE_HOT, X_DESCRIPTION, X_AMOUNT), axis=1)\n",
    "    \n",
    "    if train:\n",
    "        X_processed = scaler.fit_transform(X_processed)\n",
    "    else:\n",
    "        X_processed = scaler.transform(X_processed)\n",
    "    \n",
    "    processors = {\n",
    "        'Scaler': scaler,\n",
    "        'Vectorizer': vectorizer,\n",
    "        'TextProcessor': text_processor,\n",
    "        \"LabelEncoder\": label_encoder,\n",
    "        \"OneHotEncoder\": onehot_encoder,\n",
    "    }\n",
    "    \n",
    "    return X_processed, processors\n",
    "\n",
    "def preprocess_Y(X:pd.DataFrame, name='Kind') -> (np.array, pd.Index):\n",
    "    \"\"\" Encode str label to int\n",
    "    \"\"\"\n",
    "    return pd.factorize(X[name])"
   ]
  },
  {
   "cell_type": "code",
   "execution_count": 8,
   "metadata": {},
   "outputs": [
    {
     "data": {
      "text/plain": [
       "((538, 301), (538,))"
      ]
     },
     "execution_count": 8,
     "metadata": {},
     "output_type": "execute_result"
    }
   ],
   "source": [
    "X, processors = preprocess_X(train)\n",
    "y, y_label = preprocess_Y(train)\n",
    "X.shape, y.shape"
   ]
  },
  {
   "cell_type": "markdown",
   "metadata": {},
   "source": [
    "## Train/Test Split\n",
    "\n",
    "- There is no validation set\n",
    "- Instead, I'm going to use a K-Fold Cross Validation"
   ]
  },
  {
   "cell_type": "code",
   "execution_count": 9,
   "metadata": {
    "collapsed": true
   },
   "outputs": [],
   "source": [
    "X_train, X_test, y_train, y_test = train_test_split(X, y, test_size=0.2)"
   ]
  },
  {
   "cell_type": "code",
   "execution_count": 10,
   "metadata": {},
   "outputs": [
    {
     "data": {
      "text/plain": [
       "((430, 301), (430,), (108, 301), (108,))"
      ]
     },
     "execution_count": 10,
     "metadata": {},
     "output_type": "execute_result"
    }
   ],
   "source": [
    "X_train.shape, y_train.shape, X_test.shape, y_test.shape"
   ]
  },
  {
   "cell_type": "markdown",
   "metadata": {},
   "source": [
    "## Modeling with Sklearn\n",
    "\n",
    "- `RandomizedSearchCV`: to search the best hyperparameters\n",
    "- I know test score is not great but it's good enough for me now\n",
    "- train takes around 10 minutes"
   ]
  },
  {
   "cell_type": "code",
   "execution_count": 11,
   "metadata": {
    "collapsed": true
   },
   "outputs": [],
   "source": [
    "parameters = {'max_depth': [None, 3, 5, 10],\n",
    "              'min_samples_split': [5, 10, 50, 100],\n",
    "              'n_estimators': [100, 500, 50], }\n",
    "tree = RandomForestClassifier()\n",
    "clf = GridSearchCV(tree, param_grid=parameters, n_jobs=8)"
   ]
  },
  {
   "cell_type": "code",
   "execution_count": 12,
   "metadata": {},
   "outputs": [
    {
     "data": {
      "text/plain": [
       "GridSearchCV(cv=None, error_score='raise',\n",
       "       estimator=RandomForestClassifier(bootstrap=True, class_weight=None, criterion='gini',\n",
       "            max_depth=None, max_features='auto', max_leaf_nodes=None,\n",
       "            min_impurity_split=1e-07, min_samples_leaf=1,\n",
       "            min_samples_split=2, min_weight_fraction_leaf=0.0,\n",
       "            n_estimators=10, n_jobs=1, oob_score=False, random_state=None,\n",
       "            verbose=0, warm_start=False),\n",
       "       fit_params={}, iid=True, n_jobs=8,\n",
       "       param_grid={'max_depth': [None, 3, 5, 10], 'min_samples_split': [5, 10, 50, 100], 'n_estimators': [100, 500, 50]},\n",
       "       pre_dispatch='2*n_jobs', refit=True, return_train_score=True,\n",
       "       scoring=None, verbose=0)"
      ]
     },
     "execution_count": 12,
     "metadata": {},
     "output_type": "execute_result"
    }
   ],
   "source": [
    "clf.fit(X_train, y_train)"
   ]
  },
  {
   "cell_type": "code",
   "execution_count": 13,
   "metadata": {},
   "outputs": [
    {
     "data": {
      "text/plain": [
       "{'max_depth': None, 'min_samples_split': 10, 'n_estimators': 500}"
      ]
     },
     "execution_count": 13,
     "metadata": {},
     "output_type": "execute_result"
    }
   ],
   "source": [
    "clf.best_params_"
   ]
  },
  {
   "cell_type": "code",
   "execution_count": 14,
   "metadata": {},
   "outputs": [
    {
     "data": {
      "text/plain": [
       "0.80555555555555558"
      ]
     },
     "execution_count": 14,
     "metadata": {},
     "output_type": "execute_result"
    }
   ],
   "source": [
    "clf.score(X_test, y_test)"
   ]
  },
  {
   "cell_type": "markdown",
   "metadata": {},
   "source": [
    "## Predict labels for test data"
   ]
  },
  {
   "cell_type": "code",
   "execution_count": 15,
   "metadata": {},
   "outputs": [
    {
     "data": {
      "text/html": [
       "<div>\n",
       "<style>\n",
       "    .dataframe thead tr:only-child th {\n",
       "        text-align: right;\n",
       "    }\n",
       "\n",
       "    .dataframe thead th {\n",
       "        text-align: left;\n",
       "    }\n",
       "\n",
       "    .dataframe tbody tr th {\n",
       "        vertical-align: top;\n",
       "    }\n",
       "</style>\n",
       "<table border=\"1\" class=\"dataframe\">\n",
       "  <thead>\n",
       "    <tr style=\"text-align: right;\">\n",
       "      <th></th>\n",
       "      <th>Type</th>\n",
       "      <th>Trans Date</th>\n",
       "      <th>Post Date</th>\n",
       "      <th>Description</th>\n",
       "      <th>Amount</th>\n",
       "      <th>Kind</th>\n",
       "    </tr>\n",
       "  </thead>\n",
       "  <tbody>\n",
       "    <tr>\n",
       "      <th>0</th>\n",
       "      <td>Sale</td>\n",
       "      <td>05/31/2017</td>\n",
       "      <td>06/02/2017</td>\n",
       "      <td>SAFEWAY STORE 00026062</td>\n",
       "      <td>-5.04</td>\n",
       "      <td>Groceries</td>\n",
       "    </tr>\n",
       "    <tr>\n",
       "      <th>1</th>\n",
       "      <td>Sale</td>\n",
       "      <td>05/30/2017</td>\n",
       "      <td>05/31/2017</td>\n",
       "      <td>SICHUAN CHONG QING CUISIN</td>\n",
       "      <td>-30.40</td>\n",
       "      <td>Foods</td>\n",
       "    </tr>\n",
       "    <tr>\n",
       "      <th>2</th>\n",
       "      <td>Sale</td>\n",
       "      <td>05/30/2017</td>\n",
       "      <td>05/31/2017</td>\n",
       "      <td>ADIDAS ONLINE STORE</td>\n",
       "      <td>-43.40</td>\n",
       "      <td>Goods</td>\n",
       "    </tr>\n",
       "    <tr>\n",
       "      <th>3</th>\n",
       "      <td>Sale</td>\n",
       "      <td>05/29/2017</td>\n",
       "      <td>05/30/2017</td>\n",
       "      <td>Amazon.com</td>\n",
       "      <td>-57.42</td>\n",
       "      <td>Goods</td>\n",
       "    </tr>\n",
       "    <tr>\n",
       "      <th>4</th>\n",
       "      <td>Sale</td>\n",
       "      <td>05/28/2017</td>\n",
       "      <td>05/29/2017</td>\n",
       "      <td>ADIDAS ONLINE STORE</td>\n",
       "      <td>-43.50</td>\n",
       "      <td>Goods</td>\n",
       "    </tr>\n",
       "    <tr>\n",
       "      <th>5</th>\n",
       "      <td>Sale</td>\n",
       "      <td>05/28/2017</td>\n",
       "      <td>05/30/2017</td>\n",
       "      <td>STARBUCKS STORE 06677</td>\n",
       "      <td>-3.45</td>\n",
       "      <td>Coffee</td>\n",
       "    </tr>\n",
       "    <tr>\n",
       "      <th>6</th>\n",
       "      <td>Sale</td>\n",
       "      <td>05/27/2017</td>\n",
       "      <td>05/29/2017</td>\n",
       "      <td>KUKJE SUPER MARKET</td>\n",
       "      <td>-53.03</td>\n",
       "      <td>Groceries</td>\n",
       "    </tr>\n",
       "    <tr>\n",
       "      <th>7</th>\n",
       "      <td>Sale</td>\n",
       "      <td>05/26/2017</td>\n",
       "      <td>05/28/2017</td>\n",
       "      <td>GEICO  *AUTO</td>\n",
       "      <td>-68.20</td>\n",
       "      <td>Auto</td>\n",
       "    </tr>\n",
       "    <tr>\n",
       "      <th>8</th>\n",
       "      <td>Sale</td>\n",
       "      <td>05/25/2017</td>\n",
       "      <td>05/26/2017</td>\n",
       "      <td>UDACITY INC.</td>\n",
       "      <td>-800.00</td>\n",
       "      <td>Study</td>\n",
       "    </tr>\n",
       "    <tr>\n",
       "      <th>9</th>\n",
       "      <td>Sale</td>\n",
       "      <td>05/24/2017</td>\n",
       "      <td>05/26/2017</td>\n",
       "      <td>CCSF MTA PARKING METER P</td>\n",
       "      <td>-11.25</td>\n",
       "      <td>Auto</td>\n",
       "    </tr>\n",
       "  </tbody>\n",
       "</table>\n",
       "</div>"
      ],
      "text/plain": [
       "   Type  Trans Date   Post Date                Description  Amount       Kind\n",
       "0  Sale  05/31/2017  06/02/2017     SAFEWAY STORE 00026062   -5.04  Groceries\n",
       "1  Sale  05/30/2017  05/31/2017  SICHUAN CHONG QING CUISIN  -30.40      Foods\n",
       "2  Sale  05/30/2017  05/31/2017        ADIDAS ONLINE STORE  -43.40      Goods\n",
       "3  Sale  05/29/2017  05/30/2017                 Amazon.com  -57.42      Goods\n",
       "4  Sale  05/28/2017  05/29/2017        ADIDAS ONLINE STORE  -43.50      Goods\n",
       "5  Sale  05/28/2017  05/30/2017      STARBUCKS STORE 06677   -3.45     Coffee\n",
       "6  Sale  05/27/2017  05/29/2017         KUKJE SUPER MARKET  -53.03  Groceries\n",
       "7  Sale  05/26/2017  05/28/2017               GEICO  *AUTO  -68.20       Auto\n",
       "8  Sale  05/25/2017  05/26/2017               UDACITY INC. -800.00      Study\n",
       "9  Sale  05/24/2017  05/26/2017   CCSF MTA PARKING METER P  -11.25       Auto"
      ]
     },
     "execution_count": 15,
     "metadata": {},
     "output_type": "execute_result"
    }
   ],
   "source": [
    "X_new, _ = preprocess_X(pd.read_csv(data['test']), processors, train=False)\n",
    "y_new = clf.predict(X_new)\n",
    "df = pd.read_csv(data['test'])\n",
    "df['Kind'] = [y_label[y] for y in y_new]\n",
    "df.head(10)"
   ]
  },
  {
   "cell_type": "markdown",
   "metadata": {},
   "source": [
    "## Post processing\n",
    "\n",
    "- Save to csv\n",
    "- Fix incorrect labels manually using spreadsheet tools"
   ]
  },
  {
   "cell_type": "code",
   "execution_count": 16,
   "metadata": {},
   "outputs": [
    {
     "ename": "AssertionError",
     "evalue": "",
     "output_type": "error",
     "traceback": [
      "\u001b[0;31m---------------------------------------------------------------------------\u001b[0m",
      "\u001b[0;31mAssertionError\u001b[0m                            Traceback (most recent call last)",
      "\u001b[0;32m<ipython-input-16-80b4f81f34bf>\u001b[0m in \u001b[0;36m<module>\u001b[0;34m()\u001b[0m\n\u001b[0;32m----> 1\u001b[0;31m \u001b[0;32massert\u001b[0m \u001b[0;36m1\u001b[0m\u001b[0;34m==\u001b[0m\u001b[0;36m0\u001b[0m \u001b[0;31m# Stop here: below it's a merge step\u001b[0m\u001b[0;34m\u001b[0m\u001b[0m\n\u001b[0m",
      "\u001b[0;31mAssertionError\u001b[0m: "
     ]
    }
   ],
   "source": [
    "assert 1==0 # Stop here: below it's a merge step"
   ]
  },
  {
   "cell_type": "code",
   "execution_count": 17,
   "metadata": {
    "collapsed": true
   },
   "outputs": [],
   "source": [
    "df.to_csv('data/data_processed.csv', index=False)"
   ]
  },
  {
   "cell_type": "markdown",
   "metadata": {},
   "source": [
    "# 9. Merge step\n",
    "- create a final processed ready-for-analysis file"
   ]
  },
  {
   "cell_type": "code",
   "execution_count": 18,
   "metadata": {
    "scrolled": false
   },
   "outputs": [
    {
     "data": {
      "text/html": [
       "<div>\n",
       "<style>\n",
       "    .dataframe thead tr:only-child th {\n",
       "        text-align: right;\n",
       "    }\n",
       "\n",
       "    .dataframe thead th {\n",
       "        text-align: left;\n",
       "    }\n",
       "\n",
       "    .dataframe tbody tr th {\n",
       "        vertical-align: top;\n",
       "    }\n",
       "</style>\n",
       "<table border=\"1\" class=\"dataframe\">\n",
       "  <thead>\n",
       "    <tr style=\"text-align: right;\">\n",
       "      <th></th>\n",
       "      <th>Type</th>\n",
       "      <th>Trans Date</th>\n",
       "      <th>Post Date</th>\n",
       "      <th>Description</th>\n",
       "      <th>Amount</th>\n",
       "      <th>Kind</th>\n",
       "    </tr>\n",
       "  </thead>\n",
       "  <tbody>\n",
       "    <tr>\n",
       "      <th>0</th>\n",
       "      <td>Sale</td>\n",
       "      <td>2017-05-31</td>\n",
       "      <td>2017-06-02</td>\n",
       "      <td>SAFEWAY STORE 00026062</td>\n",
       "      <td>-5.04</td>\n",
       "      <td>Groceries</td>\n",
       "    </tr>\n",
       "    <tr>\n",
       "      <th>1</th>\n",
       "      <td>Sale</td>\n",
       "      <td>2017-05-30</td>\n",
       "      <td>2017-05-31</td>\n",
       "      <td>SICHUAN CHONG QING CUISIN</td>\n",
       "      <td>-30.40</td>\n",
       "      <td>Foods</td>\n",
       "    </tr>\n",
       "    <tr>\n",
       "      <th>2</th>\n",
       "      <td>Sale</td>\n",
       "      <td>2017-05-30</td>\n",
       "      <td>2017-05-31</td>\n",
       "      <td>ADIDAS ONLINE STORE</td>\n",
       "      <td>-43.40</td>\n",
       "      <td>Goods</td>\n",
       "    </tr>\n",
       "    <tr>\n",
       "      <th>3</th>\n",
       "      <td>Sale</td>\n",
       "      <td>2017-05-29</td>\n",
       "      <td>2017-05-30</td>\n",
       "      <td>Amazon.com</td>\n",
       "      <td>-57.42</td>\n",
       "      <td>Goods</td>\n",
       "    </tr>\n",
       "    <tr>\n",
       "      <th>4</th>\n",
       "      <td>Sale</td>\n",
       "      <td>2017-05-28</td>\n",
       "      <td>2017-05-29</td>\n",
       "      <td>ADIDAS ONLINE STORE</td>\n",
       "      <td>-43.50</td>\n",
       "      <td>Goods</td>\n",
       "    </tr>\n",
       "  </tbody>\n",
       "</table>\n",
       "</div>"
      ],
      "text/plain": [
       "   Type Trans Date  Post Date                Description  Amount       Kind\n",
       "0  Sale 2017-05-31 2017-06-02     SAFEWAY STORE 00026062   -5.04  Groceries\n",
       "1  Sale 2017-05-30 2017-05-31  SICHUAN CHONG QING CUISIN  -30.40      Foods\n",
       "2  Sale 2017-05-30 2017-05-31        ADIDAS ONLINE STORE  -43.40      Goods\n",
       "3  Sale 2017-05-29 2017-05-30                 Amazon.com  -57.42      Goods\n",
       "4  Sale 2017-05-28 2017-05-29        ADIDAS ONLINE STORE  -43.50      Goods"
      ]
     },
     "execution_count": 18,
     "metadata": {},
     "output_type": "execute_result"
    }
   ],
   "source": [
    "dateparse = lambda x: pd.datetime.strptime(x, '%m/%d/%Y')\n",
    "df = pd.read_csv(\"data/data_processed.csv\", parse_dates=['Trans Date', 'Post Date'], date_parser=dateparse)\n",
    "df.head()"
   ]
  },
  {
   "cell_type": "code",
   "execution_count": 19,
   "metadata": {
    "collapsed": true
   },
   "outputs": [],
   "source": [
    "col_names = ['Type', 'Trans Date', 'Post Date', 'Description', 'Amount', 'Kind']"
   ]
  },
  {
   "cell_type": "code",
   "execution_count": 20,
   "metadata": {
    "collapsed": true
   },
   "outputs": [],
   "source": [
    "merged = train[col_names].append(df, ignore_index=True)"
   ]
  },
  {
   "cell_type": "code",
   "execution_count": 21,
   "metadata": {
    "collapsed": true
   },
   "outputs": [],
   "source": [
    "merged.to_csv(\"data/final/merged_may_2017.csv\", index=False)"
   ]
  },
  {
   "cell_type": "code",
   "execution_count": null,
   "metadata": {
    "collapsed": true
   },
   "outputs": [],
   "source": []
  }
 ],
 "metadata": {
  "kernelspec": {
   "display_name": "Python 3",
   "language": "python",
   "name": "python3"
  },
  "language_info": {
   "codemirror_mode": {
    "name": "ipython",
    "version": 3
   },
   "file_extension": ".py",
   "mimetype": "text/x-python",
   "name": "python",
   "nbconvert_exporter": "python",
   "pygments_lexer": "ipython3",
   "version": "3.6.1"
  },
  "toc": {
   "colors": {
    "hover_highlight": "#DAA520",
    "navigate_num": "#000000",
    "navigate_text": "#333333",
    "running_highlight": "#FF0000",
    "selected_highlight": "#FFD700",
    "sidebar_border": "#EEEEEE",
    "wrapper_background": "#FFFFFF"
   },
   "moveMenuLeft": true,
   "nav_menu": {
    "height": "192px",
    "width": "252px"
   },
   "navigate_menu": true,
   "number_sections": true,
   "sideBar": true,
   "threshold": 4,
   "toc_cell": false,
   "toc_section_display": "block",
   "toc_window_display": false,
   "widenNotebook": false
  }
 },
 "nbformat": 4,
 "nbformat_minor": 2
}
