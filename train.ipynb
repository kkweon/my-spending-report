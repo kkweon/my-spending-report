{
 "cells": [
  {
   "cell_type": "markdown",
   "metadata": {},
   "source": [
    "# Train model\n",
    "\n",
    "## Abstract\n",
    "\n",
    "- I label my expenditure type such as 'Goods', 'Foods', 'Groceries'\n",
    "- Manually labeling is difficult\n",
    "- Use ML instead\n",
    "- I chose [Extream Gradient Boosting](http://xgboost.readthedocs.io/en/latest/model.html)\n",
    "    - it's faster to train yet its performance is great"
   ]
  },
  {
   "cell_type": "markdown",
   "metadata": {},
   "source": [
    "# 1. Import library\n",
    "\n",
    "- pandas for data frame\n",
    "- numpy for data processing\n",
    "- matplotlib for plotting\n",
    "- sklearn for modelling\n",
    "- xgboost for modelling"
   ]
  },
  {
   "cell_type": "code",
   "execution_count": 56,
   "metadata": {
    "collapsed": true,
    "deletable": true,
    "editable": true
   },
   "outputs": [],
   "source": [
    "import pandas as pd\n",
    "import numpy as np\n",
    "import matplotlib.pyplot as plt\n",
    "import xgboost as xgb\n",
    "from sklearn.model_selection import train_test_split, GridSearchCV, RandomizedSearchCV\n",
    "from sklearn.feature_extraction.text import CountVectorizer\n",
    "from sklearn import preprocessing\n",
    "\n",
    "import re\n",
    "%matplotlib inline"
   ]
  },
  {
   "cell_type": "markdown",
   "metadata": {},
   "source": [
    "# 2. Global variable\n",
    "\n",
    "- add the previously generated summary file\n",
    "    - call it 'train'\n",
    "- add the newly generated expenditure lists\n",
    "    - call it 'test'"
   ]
  },
  {
   "cell_type": "code",
   "execution_count": 57,
   "metadata": {
    "collapsed": false,
    "deletable": true,
    "editable": true,
    "scrolled": true
   },
   "outputs": [
    {
     "data": {
      "text/html": [
       "<div>\n",
       "<table border=\"1\" class=\"dataframe\">\n",
       "  <thead>\n",
       "    <tr style=\"text-align: right;\">\n",
       "      <th></th>\n",
       "      <th>Type</th>\n",
       "      <th>Trans Date</th>\n",
       "      <th>Post Date</th>\n",
       "      <th>Description</th>\n",
       "      <th>Amount</th>\n",
       "      <th>Kind</th>\n",
       "      <th>Expense</th>\n",
       "    </tr>\n",
       "  </thead>\n",
       "  <tbody>\n",
       "    <tr>\n",
       "      <th>0</th>\n",
       "      <td>Sale</td>\n",
       "      <td>2016-12-31</td>\n",
       "      <td>2017-01-01</td>\n",
       "      <td>PAYPAL *DIGIZONE</td>\n",
       "      <td>-2.17</td>\n",
       "      <td>Goods</td>\n",
       "      <td>1</td>\n",
       "    </tr>\n",
       "    <tr>\n",
       "      <th>1</th>\n",
       "      <td>Sale</td>\n",
       "      <td>2016-12-31</td>\n",
       "      <td>2017-01-01</td>\n",
       "      <td>SQ *COOL TEA BAR  WAVERLY</td>\n",
       "      <td>-8.72</td>\n",
       "      <td>Foods</td>\n",
       "      <td>1</td>\n",
       "    </tr>\n",
       "    <tr>\n",
       "      <th>2</th>\n",
       "      <td>Sale</td>\n",
       "      <td>2016-12-30</td>\n",
       "      <td>2017-01-01</td>\n",
       "      <td>TARGET        00003202</td>\n",
       "      <td>-29.61</td>\n",
       "      <td>Goods</td>\n",
       "      <td>1</td>\n",
       "    </tr>\n",
       "    <tr>\n",
       "      <th>3</th>\n",
       "      <td>Sale</td>\n",
       "      <td>2016-12-30</td>\n",
       "      <td>2017-01-01</td>\n",
       "      <td>99 RANCH #1769</td>\n",
       "      <td>-47.59</td>\n",
       "      <td>Groceries</td>\n",
       "      <td>1</td>\n",
       "    </tr>\n",
       "    <tr>\n",
       "      <th>4</th>\n",
       "      <td>Sale</td>\n",
       "      <td>2016-12-30</td>\n",
       "      <td>2017-01-01</td>\n",
       "      <td>A&amp;amp;A GAS</td>\n",
       "      <td>-23.62</td>\n",
       "      <td>Auto</td>\n",
       "      <td>1</td>\n",
       "    </tr>\n",
       "  </tbody>\n",
       "</table>\n",
       "</div>"
      ],
      "text/plain": [
       "   Type Trans Date  Post Date                Description  Amount       Kind  \\\n",
       "0  Sale 2016-12-31 2017-01-01           PAYPAL *DIGIZONE   -2.17      Goods   \n",
       "1  Sale 2016-12-31 2017-01-01  SQ *COOL TEA BAR  WAVERLY   -8.72      Foods   \n",
       "2  Sale 2016-12-30 2017-01-01     TARGET        00003202  -29.61      Goods   \n",
       "3  Sale 2016-12-30 2017-01-01             99 RANCH #1769  -47.59  Groceries   \n",
       "4  Sale 2016-12-30 2017-01-01                A&amp;A GAS  -23.62       Auto   \n",
       "\n",
       "   Expense  \n",
       "0        1  \n",
       "1        1  \n",
       "2        1  \n",
       "3        1  \n",
       "4        1  "
      ]
     },
     "execution_count": 57,
     "metadata": {},
     "output_type": "execute_result"
    }
   ],
   "source": [
    "data = {\n",
    "    'train': 'data/data.csv',\n",
    "    'test': 'data/Chase7899_Activity_20170211.CSV'    \n",
    "}\n",
    "dateparse = lambda x: pd.datetime.strptime(x, '%m/%d/%y')\n",
    "train = pd.read_csv(data['train'], parse_dates=['Trans Date', 'Post Date'], date_parser=dateparse)\n",
    "train.head(5)"
   ]
  },
  {
   "cell_type": "markdown",
   "metadata": {},
   "source": [
    "# 3. Preprocessing\n",
    "\n",
    "- Sum of categories have very few occurance\n",
    "- Those are better to be dropped for performance"
   ]
  },
  {
   "cell_type": "code",
   "execution_count": 58,
   "metadata": {
    "collapsed": false,
    "deletable": true,
    "editable": true
   },
   "outputs": [
    {
     "data": {
      "text/plain": [
       "['Apt',\n",
       " 'Etc',\n",
       " 'Flight',\n",
       " 'Internet',\n",
       " 'Membership',\n",
       " 'Moving',\n",
       " 'Music',\n",
       " 'Parking',\n",
       " 'Travel',\n",
       " 'Unknown']"
      ]
     },
     "execution_count": 58,
     "metadata": {},
     "output_type": "execute_result"
    }
   ],
   "source": [
    "gb = train.groupby('Kind')\n",
    "gb = gb.count()['Type']\n",
    "#drop_quantile = gb.quantile(.1)\n",
    "drop_index = gb[gb <= 5].index.tolist()\n",
    "drop_index"
   ]
  },
  {
   "cell_type": "code",
   "execution_count": 59,
   "metadata": {
    "collapsed": false,
    "deletable": true,
    "editable": true
   },
   "outputs": [],
   "source": [
    "train = train[~train.Kind.isin(drop_index)]"
   ]
  },
  {
   "cell_type": "markdown",
   "metadata": {},
   "source": [
    "# 4. Define helper methods\n",
    "\n",
    "- text process and vectorize description\n",
    "- one-hot encode dataframe"
   ]
  },
  {
   "cell_type": "code",
   "execution_count": 60,
   "metadata": {
    "collapsed": true,
    "deletable": true,
    "editable": true
   },
   "outputs": [],
   "source": [
    "def preprocess_X(X:pd.DataFrame, processors=dict(), train=True):\n",
    "    if not train and not processors:\n",
    "        raise Exception(\"Processor should be given when train = False\")\n",
    "        \n",
    "    def keep_only_ABCs_and_lower(text):\n",
    "        except_letters = re.compile(r'(?![A-z]).')\n",
    "        return except_letters.sub(\" \", text.lower())\n",
    "\n",
    "    def convert_to_single_space(text):\n",
    "        multiple_whitespace = re.compile(r'\\s+')\n",
    "        assert isinstance(text, str), text\n",
    "        return multiple_whitespace.sub(\" \", text)\n",
    "\n",
    "    def keep_only_length_greater_than_2(text):\n",
    "        return \" \".join(word for word in text.split(' ') if len(word) > 2)\n",
    "\n",
    "    def text_process(text):\n",
    "        text = keep_only_ABCs_and_lower(text)\n",
    "        text = keep_only_length_greater_than_2(text)\n",
    "        text = convert_to_single_space(text)\n",
    "        return text\n",
    "    \n",
    "    scaler = processors.get('Scaler', preprocessing.StandardScaler())\n",
    "    vectorizer = processors.get('Vectorizer', CountVectorizer())\n",
    "    text_processor = processors.get('TextProcessor', text_process)\n",
    "    \n",
    "    features = ['Type', 'Description', 'Amount']\n",
    "    assert all(feat in X.columns for feat in features), \"X does not have correct headers\"\n",
    "    X_features = X[features]\n",
    "\n",
    "    X_TYPE_ONE_HOT = pd.get_dummies(X_features['Type']) # Payment, Return, Sales \\n 1, 0, 0 \\n ....\n",
    "    X_DESCRIPTION = X_features['Description'].apply(text_processor)\n",
    "    if train:\n",
    "        X_DESCRIPTION = vectorizer.fit_transform(X_DESCRIPTION).toarray()\n",
    "    else:\n",
    "        X_DESCRIPTION = vectorizer.transform(X_DESCRIPTION).toarray()\n",
    "    \n",
    "    X_AMOUNT = X_features['Amount'].values.reshape(-1, 1)\n",
    "    \n",
    "    X_processed = np.hstack((X_TYPE_ONE_HOT, X_DESCRIPTION, X_AMOUNT))\n",
    "    \n",
    "    if train:\n",
    "        X_processed = scaler.fit_transform(X_processed)\n",
    "    else:\n",
    "        X_processed = scaler.transform(X_processed)\n",
    "    \n",
    "    processors = {\n",
    "        'Scaler': scaler,\n",
    "        'Vectorizer': vectorizer,\n",
    "        'TextProcessor': text_processor\n",
    "    }\n",
    "    \n",
    "    return X_processed, processors\n",
    "\n",
    "def preprocess_Y(X:pd.DataFrame, name='Kind') -> (np.array, pd.Index):\n",
    "    \"\"\" Encode str label to int\n",
    "    \"\"\"\n",
    "    return pd.factorize(X[name])"
   ]
  },
  {
   "cell_type": "code",
   "execution_count": 61,
   "metadata": {
    "collapsed": false,
    "deletable": true,
    "editable": true
   },
   "outputs": [
    {
     "data": {
      "text/plain": [
       "((371, 242), (371,))"
      ]
     },
     "execution_count": 61,
     "metadata": {},
     "output_type": "execute_result"
    }
   ],
   "source": [
    "X, processors = preprocess_X(train)\n",
    "y, y_label = preprocess_Y(train)\n",
    "X.shape, y.shape"
   ]
  },
  {
   "cell_type": "markdown",
   "metadata": {},
   "source": [
    "# 5. Train/Test Split\n",
    "\n",
    "- there is no validation set because I'm going to ues a cross-validation in running-time"
   ]
  },
  {
   "cell_type": "code",
   "execution_count": 62,
   "metadata": {
    "collapsed": true,
    "deletable": true,
    "editable": true
   },
   "outputs": [],
   "source": [
    "X_train, X_test, y_train, y_test = train_test_split(X, y, test_size=0.2)"
   ]
  },
  {
   "cell_type": "code",
   "execution_count": 63,
   "metadata": {
    "collapsed": false,
    "deletable": true,
    "editable": true
   },
   "outputs": [
    {
     "data": {
      "text/plain": [
       "((296, 242), (296,), (75, 242), (75,))"
      ]
     },
     "execution_count": 63,
     "metadata": {},
     "output_type": "execute_result"
    }
   ],
   "source": [
    "X_train.shape, y_train.shape, X_test.shape, y_test.shape"
   ]
  },
  {
   "cell_type": "markdown",
   "metadata": {},
   "source": [
    "# 6. Model with XGBoost\n",
    "- `RandomizedSearchCV`: to search the best hyperparameters\n",
    "- I know test score is not great but it's good enough for me now\n",
    "- train takes around 10 minutes"
   ]
  },
  {
   "cell_type": "code",
   "execution_count": 64,
   "metadata": {
    "collapsed": true,
    "deletable": true,
    "editable": true
   },
   "outputs": [],
   "source": [
    "parameters = {'max_depth':[3,4,5], 'n_estimators':[100, 500, 1000], 'reg_lambda':[0.7, 1.0]}\n",
    "gbm = xgb.XGBClassifier(objective='multi:softmax')\n",
    "clf = RandomizedSearchCV(gbm, parameters)"
   ]
  },
  {
   "cell_type": "code",
   "execution_count": 65,
   "metadata": {
    "collapsed": false,
    "deletable": true,
    "editable": true
   },
   "outputs": [
    {
     "data": {
      "text/plain": [
       "RandomizedSearchCV(cv=None, error_score='raise',\n",
       "          estimator=XGBClassifier(base_score=0.5, colsample_bylevel=1, colsample_bytree=1,\n",
       "       gamma=0, learning_rate=0.1, max_delta_step=0, max_depth=3,\n",
       "       min_child_weight=1, missing=None, n_estimators=100, nthread=-1,\n",
       "       objective='multi:softmax', reg_alpha=0, reg_lambda=1,\n",
       "       scale_pos_weight=1, seed=0, silent=True, subsample=1),\n",
       "          fit_params={}, iid=True, n_iter=10, n_jobs=1,\n",
       "          param_distributions={'max_depth': [3, 4, 5], 'n_estimators': [100, 500, 1000], 'reg_lambda': [0.7, 1.0]},\n",
       "          pre_dispatch='2*n_jobs', random_state=None, refit=True,\n",
       "          return_train_score=True, scoring=None, verbose=0)"
      ]
     },
     "execution_count": 65,
     "metadata": {},
     "output_type": "execute_result"
    }
   ],
   "source": [
    "clf.fit(X_train, y_train)"
   ]
  },
  {
   "cell_type": "code",
   "execution_count": 66,
   "metadata": {
    "collapsed": false,
    "deletable": true,
    "editable": true
   },
   "outputs": [
    {
     "data": {
      "text/plain": [
       "0.68000000000000005"
      ]
     },
     "execution_count": 66,
     "metadata": {},
     "output_type": "execute_result"
    }
   ],
   "source": [
    "clf.score(X_test, y_test)"
   ]
  },
  {
   "cell_type": "markdown",
   "metadata": {},
   "source": [
    "# 7. Predict labels for test data"
   ]
  },
  {
   "cell_type": "code",
   "execution_count": 72,
   "metadata": {
    "collapsed": false,
    "deletable": true,
    "editable": true
   },
   "outputs": [
    {
     "data": {
      "text/html": [
       "<div>\n",
       "<table border=\"1\" class=\"dataframe\">\n",
       "  <thead>\n",
       "    <tr style=\"text-align: right;\">\n",
       "      <th></th>\n",
       "      <th>Type</th>\n",
       "      <th>Trans Date</th>\n",
       "      <th>Post Date</th>\n",
       "      <th>Description</th>\n",
       "      <th>Amount</th>\n",
       "      <th>Kind</th>\n",
       "    </tr>\n",
       "  </thead>\n",
       "  <tbody>\n",
       "    <tr>\n",
       "      <th>0</th>\n",
       "      <td>Sale</td>\n",
       "      <td>01/31/2017</td>\n",
       "      <td>02/02/2017</td>\n",
       "      <td>WALGREENS #6655</td>\n",
       "      <td>-22.80</td>\n",
       "      <td>Groceries</td>\n",
       "    </tr>\n",
       "    <tr>\n",
       "      <th>1</th>\n",
       "      <td>Sale</td>\n",
       "      <td>01/31/2017</td>\n",
       "      <td>02/01/2017</td>\n",
       "      <td>PAYPAL *AFFORDAMACL</td>\n",
       "      <td>-2.99</td>\n",
       "      <td>Goods</td>\n",
       "    </tr>\n",
       "    <tr>\n",
       "      <th>2</th>\n",
       "      <td>Return</td>\n",
       "      <td>01/30/2017</td>\n",
       "      <td>01/30/2017</td>\n",
       "      <td>Gilroy</td>\n",
       "      <td>4.48</td>\n",
       "      <td>Return</td>\n",
       "    </tr>\n",
       "    <tr>\n",
       "      <th>3</th>\n",
       "      <td>Sale</td>\n",
       "      <td>01/30/2017</td>\n",
       "      <td>01/31/2017</td>\n",
       "      <td>NAUTICA #73</td>\n",
       "      <td>-11.66</td>\n",
       "      <td>Foods</td>\n",
       "    </tr>\n",
       "    <tr>\n",
       "      <th>4</th>\n",
       "      <td>Return</td>\n",
       "      <td>01/30/2017</td>\n",
       "      <td>01/30/2017</td>\n",
       "      <td>Gilroy</td>\n",
       "      <td>4.48</td>\n",
       "      <td>Return</td>\n",
       "    </tr>\n",
       "    <tr>\n",
       "      <th>5</th>\n",
       "      <td>Sale</td>\n",
       "      <td>01/30/2017</td>\n",
       "      <td>01/31/2017</td>\n",
       "      <td>COSTCO GAS #0422</td>\n",
       "      <td>-25.00</td>\n",
       "      <td>Auto</td>\n",
       "    </tr>\n",
       "    <tr>\n",
       "      <th>6</th>\n",
       "      <td>Return</td>\n",
       "      <td>01/30/2017</td>\n",
       "      <td>01/30/2017</td>\n",
       "      <td>Gilroy</td>\n",
       "      <td>28.72</td>\n",
       "      <td>Goods</td>\n",
       "    </tr>\n",
       "    <tr>\n",
       "      <th>7</th>\n",
       "      <td>Sale</td>\n",
       "      <td>01/29/2017</td>\n",
       "      <td>01/31/2017</td>\n",
       "      <td>IN-N-OUT BURGER #100</td>\n",
       "      <td>-17.85</td>\n",
       "      <td>Foods</td>\n",
       "    </tr>\n",
       "    <tr>\n",
       "      <th>8</th>\n",
       "      <td>Sale</td>\n",
       "      <td>01/29/2017</td>\n",
       "      <td>01/31/2017</td>\n",
       "      <td>SKECHERS-USA #7</td>\n",
       "      <td>-73.22</td>\n",
       "      <td>Clothing</td>\n",
       "    </tr>\n",
       "    <tr>\n",
       "      <th>9</th>\n",
       "      <td>Sale</td>\n",
       "      <td>01/29/2017</td>\n",
       "      <td>01/30/2017</td>\n",
       "      <td>Gilroy</td>\n",
       "      <td>-24.25</td>\n",
       "      <td>Foods</td>\n",
       "    </tr>\n",
       "  </tbody>\n",
       "</table>\n",
       "</div>"
      ],
      "text/plain": [
       "     Type  Trans Date   Post Date           Description  Amount       Kind\n",
       "0    Sale  01/31/2017  02/02/2017       WALGREENS #6655  -22.80  Groceries\n",
       "1    Sale  01/31/2017  02/01/2017   PAYPAL *AFFORDAMACL   -2.99      Goods\n",
       "2  Return  01/30/2017  01/30/2017                Gilroy    4.48     Return\n",
       "3    Sale  01/30/2017  01/31/2017           NAUTICA #73  -11.66      Foods\n",
       "4  Return  01/30/2017  01/30/2017                Gilroy    4.48     Return\n",
       "5    Sale  01/30/2017  01/31/2017      COSTCO GAS #0422  -25.00       Auto\n",
       "6  Return  01/30/2017  01/30/2017                Gilroy   28.72      Goods\n",
       "7    Sale  01/29/2017  01/31/2017  IN-N-OUT BURGER #100  -17.85      Foods\n",
       "8    Sale  01/29/2017  01/31/2017       SKECHERS-USA #7  -73.22   Clothing\n",
       "9    Sale  01/29/2017  01/30/2017                Gilroy  -24.25      Foods"
      ]
     },
     "execution_count": 72,
     "metadata": {},
     "output_type": "execute_result"
    }
   ],
   "source": [
    "X_new, _ = preprocess_X(pd.read_csv(data['test']), processors, train=False)\n",
    "y_new = clf.predict(X_new)\n",
    "df = pd.read_csv(data['test'])\n",
    "df['Kind'] = [y_label[y] for y in y_new]\n",
    "df.head(10)"
   ]
  },
  {
   "cell_type": "markdown",
   "metadata": {
    "deletable": true,
    "editable": true
   },
   "source": [
    "# 8. Post processing\n",
    "\n",
    "- Save to csv\n",
    "- Fix incorrect labels manually using spreadsheet tools"
   ]
  },
  {
   "cell_type": "code",
   "execution_count": null,
   "metadata": {
    "collapsed": true
   },
   "outputs": [],
   "source": [
    "assert 1==0 # Stop here: below it's a merge step"
   ]
  },
  {
   "cell_type": "code",
   "execution_count": 75,
   "metadata": {
    "collapsed": true,
    "deletable": true,
    "editable": true
   },
   "outputs": [],
   "source": [
    "df.to_csv('data/data_processed.csv', index=False)"
   ]
  },
  {
   "cell_type": "markdown",
   "metadata": {
    "deletable": true,
    "editable": true
   },
   "source": [
    "# 9. Merge step\n",
    "- create a final processed ready-for-analysis file"
   ]
  },
  {
   "cell_type": "code",
   "execution_count": 85,
   "metadata": {
    "collapsed": false,
    "deletable": true,
    "editable": true
   },
   "outputs": [
    {
     "data": {
      "text/html": [
       "<div>\n",
       "<table border=\"1\" class=\"dataframe\">\n",
       "  <thead>\n",
       "    <tr style=\"text-align: right;\">\n",
       "      <th></th>\n",
       "      <th>Type</th>\n",
       "      <th>Trans Date</th>\n",
       "      <th>Post Date</th>\n",
       "      <th>Description</th>\n",
       "      <th>Amount</th>\n",
       "      <th>Kind</th>\n",
       "    </tr>\n",
       "  </thead>\n",
       "  <tbody>\n",
       "    <tr>\n",
       "      <th>0</th>\n",
       "      <td>Sale</td>\n",
       "      <td>2017-01-31</td>\n",
       "      <td>2017-02-02</td>\n",
       "      <td>WALGREENS #6655</td>\n",
       "      <td>-22.80</td>\n",
       "      <td>Groceries</td>\n",
       "    </tr>\n",
       "    <tr>\n",
       "      <th>1</th>\n",
       "      <td>Sale</td>\n",
       "      <td>2017-01-31</td>\n",
       "      <td>2017-02-01</td>\n",
       "      <td>PAYPAL *AFFORDAMACL</td>\n",
       "      <td>-2.99</td>\n",
       "      <td>Goods</td>\n",
       "    </tr>\n",
       "    <tr>\n",
       "      <th>2</th>\n",
       "      <td>Return</td>\n",
       "      <td>2017-01-30</td>\n",
       "      <td>2017-01-30</td>\n",
       "      <td>Gilroy</td>\n",
       "      <td>4.48</td>\n",
       "      <td>Return</td>\n",
       "    </tr>\n",
       "    <tr>\n",
       "      <th>3</th>\n",
       "      <td>Sale</td>\n",
       "      <td>2017-01-30</td>\n",
       "      <td>2017-01-31</td>\n",
       "      <td>NAUTICA #73</td>\n",
       "      <td>-11.66</td>\n",
       "      <td>Clothing</td>\n",
       "    </tr>\n",
       "    <tr>\n",
       "      <th>4</th>\n",
       "      <td>Return</td>\n",
       "      <td>2017-01-30</td>\n",
       "      <td>2017-01-30</td>\n",
       "      <td>Gilroy</td>\n",
       "      <td>4.48</td>\n",
       "      <td>Return</td>\n",
       "    </tr>\n",
       "  </tbody>\n",
       "</table>\n",
       "</div>"
      ],
      "text/plain": [
       "     Type Trans Date  Post Date          Description  Amount       Kind\n",
       "0    Sale 2017-01-31 2017-02-02      WALGREENS #6655  -22.80  Groceries\n",
       "1    Sale 2017-01-31 2017-02-01  PAYPAL *AFFORDAMACL   -2.99      Goods\n",
       "2  Return 2017-01-30 2017-01-30               Gilroy    4.48     Return\n",
       "3    Sale 2017-01-30 2017-01-31          NAUTICA #73  -11.66   Clothing\n",
       "4  Return 2017-01-30 2017-01-30               Gilroy    4.48     Return"
      ]
     },
     "execution_count": 85,
     "metadata": {},
     "output_type": "execute_result"
    }
   ],
   "source": [
    "df = pd.read_csv(\"data/data_processed.csv\", parse_dates=['Trans Date', 'Post Date'], date_parser=dateparse)\n",
    "df.head()"
   ]
  },
  {
   "cell_type": "code",
   "execution_count": 86,
   "metadata": {
    "collapsed": false,
    "deletable": true,
    "editable": true
   },
   "outputs": [],
   "source": [
    "col_names = ['Type', 'Trans Date', 'Post Date', 'Description', 'Amount', 'Kind']"
   ]
  },
  {
   "cell_type": "code",
   "execution_count": 88,
   "metadata": {
    "collapsed": false,
    "deletable": true,
    "editable": true
   },
   "outputs": [],
   "source": [
    "merged = train[col_names].append(df, ignore_index=True)"
   ]
  },
  {
   "cell_type": "code",
   "execution_count": 90,
   "metadata": {
    "collapsed": false,
    "deletable": true,
    "editable": true
   },
   "outputs": [],
   "source": [
    "merged.to_csv(\"data/final/merged_feb_2016.csv\", index=False)"
   ]
  }
 ],
 "metadata": {
  "kernelspec": {
   "display_name": "Python 3",
   "language": "python",
   "name": "python3"
  },
  "language_info": {
   "codemirror_mode": {
    "name": "ipython",
    "version": 3
   },
   "file_extension": ".py",
   "mimetype": "text/x-python",
   "name": "python",
   "nbconvert_exporter": "python",
   "pygments_lexer": "ipython3",
   "version": "3.6.0"
  }
 },
 "nbformat": 4,
 "nbformat_minor": 2
}
